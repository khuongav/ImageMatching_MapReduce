{
  "nbformat": 4,
  "nbformat_minor": 0,
  "metadata": {
    "kernelspec": {
      "name": "python3",
      "display_name": "Python 3"
    },
    "language_info": {
      "codemirror_mode": {
        "name": "ipython",
        "version": 3
      },
      "file_extension": ".py",
      "mimetype": "text/x-python",
      "name": "python",
      "nbconvert_exporter": "python",
      "pygments_lexer": "ipython3",
      "version": "3.5.6"
    },
    "nav_menu": {},
    "toc": {
      "navigate_menu": true,
      "number_sections": true,
      "sideBar": true,
      "threshold": 6,
      "toc_cell": false,
      "toc_section_display": "block",
      "toc_window_display": false
    },
    "widgets": {
      "state": {},
      "version": "1.1.2"
    },
    "colab": {
      "name": "Fashion MNIST - TPU.ipynb",
      "version": "0.3.2",
      "provenance": [],
      "collapsed_sections": [
        "J4X-Z4cTyT3J",
        "2muEVB9ZyT3z",
        "hyTkn9-IyT4X",
        "wBDtWSDcyT48",
        "L73bPsl2yT4_",
        "t_euFo7jyT5p",
        "-x8QW3obZOVI"
      ],
      "toc_visible": true,
      "include_colab_link": true
    },
    "accelerator": "TPU"
  },
  "cells": [
    {
      "cell_type": "markdown",
      "metadata": {
        "id": "view-in-github",
        "colab_type": "text"
      },
      "source": [
        "<a href=\"https://colab.research.google.com/github/khuongav/ImageMatching_MapReduce/blob/master/Fashion_MNIST_TPU.ipynb\" target=\"_parent\"><img src=\"https://colab.research.google.com/assets/colab-badge.svg\" alt=\"Open In Colab\"/></a>"
      ]
    },
    {
      "cell_type": "markdown",
      "metadata": {
        "id": "bgpSPinwyT1v",
        "colab_type": "text"
      },
      "source": [
        "# Fashion MNIST Image Classification on TPU"
      ]
    },
    {
      "cell_type": "markdown",
      "metadata": {
        "id": "MvpMeCwbyT1x",
        "colab_type": "text"
      },
      "source": [
        "author: **Khuong Vo**\n",
        "\n",
        "Building a convolutional neural network that learns to predict one of the 10 classes of the Fashion-MNIST dataset which comprises grayscale images of 10 different classes of clothes. \n",
        "\n",
        "This notebook is based on the **fast.ai** course v1\n",
        "\n",
        "Run on **TPUs** in **Google Colab**"
      ]
    },
    {
      "cell_type": "markdown",
      "metadata": {
        "id": "d610UCo-yT1z",
        "colab_type": "text"
      },
      "source": [
        "**Fashion MNIST image classification with different approaches:**\n",
        "  1. **Linear model**\n",
        "  2. **Single dense layer**\n",
        "  3. **Basic 'VGG-style' CNN**\n",
        "  4. **Data augmentation**\n",
        "  5. **Batchnorm + data augmentation**\n",
        "  6. **Batchnorm + dropout + data augmentation**\n",
        "  7. **Octave Convolution + (6)** (No registered 'ResizeNearestNeighborGrad' error, https://github.com/tensorflow/tensorflow/issues/26214, while DistributionStrategy currently does not support generator)\n",
        "  9. **Ensembling**\n",
        "    \n",
        "**Each approach is run with different learning rates (.1, .01, .001, .0001)**"
      ]
    },
    {
      "cell_type": "markdown",
      "metadata": {
        "heading_collapsed": true,
        "id": "WrgO1_gxyT2B",
        "colab_type": "text"
      },
      "source": [
        "## Setup"
      ]
    },
    {
      "cell_type": "markdown",
      "metadata": {
        "id": "8A-_p2CSyT10",
        "colab_type": "text"
      },
      "source": [
        "Import necessary libraries"
      ]
    },
    {
      "cell_type": "code",
      "metadata": {
        "id": "yV4icrTlAFNw",
        "colab_type": "code",
        "outputId": "2d97f3a1-bd31-49e5-f775-bfaa5b8173b0",
        "colab": {
          "base_uri": "https://localhost:8080/",
          "height": 34
        }
      },
      "source": [
        "from google.colab import drive\n",
        "drive.mount('/content/drive')"
      ],
      "execution_count": 0,
      "outputs": [
        {
          "output_type": "stream",
          "text": [
            "Drive already mounted at /content/drive; to attempt to forcibly remount, call drive.mount(\"/content/drive\", force_remount=True).\n"
          ],
          "name": "stdout"
        }
      ]
    },
    {
      "cell_type": "code",
      "metadata": {
        "id": "S4cFE4AGcG6N",
        "colab_type": "code",
        "colab": {}
      },
      "source": [
        "!mkdir -p '/content/drive/My Drive/colab_models/fashion_mnist/'"
      ],
      "execution_count": 0,
      "outputs": []
    },
    {
      "cell_type": "code",
      "metadata": {
        "id": "gqCGaCaEyJsC",
        "colab_type": "code",
        "outputId": "15ce5396-c04b-4b4a-9214-c45e2732d078",
        "colab": {
          "base_uri": "https://localhost:8080/",
          "height": 336
        }
      },
      "source": [
        "!pip install tensorflow==1.11.0"
      ],
      "execution_count": 0,
      "outputs": [
        {
          "output_type": "stream",
          "text": [
            "Requirement already satisfied: tensorflow==1.11.0 in /usr/local/lib/python3.6/dist-packages (1.11.0)\n",
            "Requirement already satisfied: protobuf>=3.6.0 in /usr/local/lib/python3.6/dist-packages (from tensorflow==1.11.0) (3.7.1)\n",
            "Requirement already satisfied: tensorboard<1.12.0,>=1.11.0 in /usr/local/lib/python3.6/dist-packages (from tensorflow==1.11.0) (1.11.0)\n",
            "Requirement already satisfied: grpcio>=1.8.6 in /usr/local/lib/python3.6/dist-packages (from tensorflow==1.11.0) (1.15.0)\n",
            "Requirement already satisfied: keras-preprocessing>=1.0.3 in /usr/local/lib/python3.6/dist-packages (from tensorflow==1.11.0) (1.1.0)\n",
            "Requirement already satisfied: wheel>=0.26 in /usr/local/lib/python3.6/dist-packages (from tensorflow==1.11.0) (0.33.4)\n",
            "Requirement already satisfied: absl-py>=0.1.6 in /usr/local/lib/python3.6/dist-packages (from tensorflow==1.11.0) (0.7.1)\n",
            "Requirement already satisfied: six>=1.10.0 in /usr/local/lib/python3.6/dist-packages (from tensorflow==1.11.0) (1.12.0)\n",
            "Requirement already satisfied: gast>=0.2.0 in /usr/local/lib/python3.6/dist-packages (from tensorflow==1.11.0) (0.2.2)\n",
            "Requirement already satisfied: termcolor>=1.1.0 in /usr/local/lib/python3.6/dist-packages (from tensorflow==1.11.0) (1.1.0)\n",
            "Requirement already satisfied: setuptools<=39.1.0 in /usr/local/lib/python3.6/dist-packages (from tensorflow==1.11.0) (39.1.0)\n",
            "Requirement already satisfied: numpy>=1.13.3 in /usr/local/lib/python3.6/dist-packages (from tensorflow==1.11.0) (1.16.4)\n",
            "Requirement already satisfied: keras-applications>=1.0.5 in /usr/local/lib/python3.6/dist-packages (from tensorflow==1.11.0) (1.0.8)\n",
            "Requirement already satisfied: astor>=0.6.0 in /usr/local/lib/python3.6/dist-packages (from tensorflow==1.11.0) (0.8.0)\n",
            "Requirement already satisfied: markdown>=2.6.8 in /usr/local/lib/python3.6/dist-packages (from tensorboard<1.12.0,>=1.11.0->tensorflow==1.11.0) (3.1.1)\n",
            "Requirement already satisfied: werkzeug>=0.11.10 in /usr/local/lib/python3.6/dist-packages (from tensorboard<1.12.0,>=1.11.0->tensorflow==1.11.0) (0.15.5)\n",
            "Requirement already satisfied: h5py in /usr/local/lib/python3.6/dist-packages (from keras-applications>=1.0.5->tensorflow==1.11.0) (2.8.0)\n"
          ],
          "name": "stdout"
        }
      ]
    },
    {
      "cell_type": "code",
      "metadata": {
        "id": "3un4rR25yT18",
        "colab_type": "code",
        "colab": {}
      },
      "source": [
        "%matplotlib inline\n",
        "import numpy as np\n",
        "import matplotlib.pyplot as plt\n",
        "import tensorflow as tf\n",
        "from tensorflow.keras.models import Model\n",
        "from tensorflow.keras import Sequential\n",
        "from tensorflow.keras.optimizers import Adam\n",
        "from tensorflow.keras.preprocessing.image import ImageDataGenerator\n",
        "from tensorflow.keras.datasets import fashion_mnist\n",
        "from tensorflow.keras.backend import clear_session\n",
        "from tensorflow.keras.models import load_model\n",
        "from tensorflow.keras.layers import Input, Conv2D, MaxPool2D, BatchNormalization, Activation, Dropout, Flatten, Dense\n",
        "\n",
        "tf.logging.set_verbosity(tf.logging.WARN)"
      ],
      "execution_count": 0,
      "outputs": []
    },
    {
      "cell_type": "code",
      "metadata": {
        "id": "mhoTUm-v5lY_",
        "colab_type": "code",
        "outputId": "bc522834-127e-4581-d9d1-add67cd51e11",
        "colab": {
          "base_uri": "https://localhost:8080/",
          "height": 246
        }
      },
      "source": [
        "import os\n",
        "import pprint\n",
        "\n",
        "if 'COLAB_TPU_ADDR' not in os.environ:\n",
        "    print('ERROR: Not connected to a TPU runtime; please see the first cell in this notebook for instructions!')\n",
        "else:\n",
        "    # This address identifies the TPU we'll use when configuring TensorFlow.\n",
        "    TPU_WORKER = 'grpc://' + os.environ['COLAB_TPU_ADDR']\n",
        "    print ('TPU address is', TPU_WORKER)\n",
        "\n",
        "with tf.Session(TPU_WORKER) as session:\n",
        "    devices = session.list_devices()\n",
        "\n",
        "print('TPU devices:')\n",
        "pprint.pprint(devices)"
      ],
      "execution_count": 0,
      "outputs": [
        {
          "output_type": "stream",
          "text": [
            "TPU address is grpc://10.82.70.226:8470\n",
            "TPU devices:\n",
            "[_DeviceAttributes(/job:tpu_worker/replica:0/task:0/device:CPU:0, CPU, -1, 888844707818826604),\n",
            " _DeviceAttributes(/job:tpu_worker/replica:0/task:0/device:XLA_CPU:0, XLA_CPU, 17179869184, 14203919949827900503),\n",
            " _DeviceAttributes(/job:tpu_worker/replica:0/task:0/device:TPU:0, TPU, 17179869184, 17429329624840439278),\n",
            " _DeviceAttributes(/job:tpu_worker/replica:0/task:0/device:TPU:1, TPU, 17179869184, 7758059339624291602),\n",
            " _DeviceAttributes(/job:tpu_worker/replica:0/task:0/device:TPU:2, TPU, 17179869184, 15149420431265885307),\n",
            " _DeviceAttributes(/job:tpu_worker/replica:0/task:0/device:TPU:3, TPU, 17179869184, 6013759829510821234),\n",
            " _DeviceAttributes(/job:tpu_worker/replica:0/task:0/device:TPU:4, TPU, 17179869184, 3284503332643012985),\n",
            " _DeviceAttributes(/job:tpu_worker/replica:0/task:0/device:TPU:5, TPU, 17179869184, 12791522434716519699),\n",
            " _DeviceAttributes(/job:tpu_worker/replica:0/task:0/device:TPU:6, TPU, 17179869184, 6396862005964285030),\n",
            " _DeviceAttributes(/job:tpu_worker/replica:0/task:0/device:TPU:7, TPU, 17179869184, 8155117057859461411),\n",
            " _DeviceAttributes(/job:tpu_worker/replica:0/task:0/device:TPU_SYSTEM:0, TPU_SYSTEM, 8589934592, 17714290716182408531)]\n"
          ],
          "name": "stdout"
        }
      ]
    },
    {
      "cell_type": "markdown",
      "metadata": {
        "id": "14Jqq7f_LIyZ",
        "colab_type": "text"
      },
      "source": [
        "## Data preprocessing"
      ]
    },
    {
      "cell_type": "markdown",
      "metadata": {
        "id": "ZgppqQhLyT2D",
        "colab_type": "text"
      },
      "source": [
        "Each image is mapped to a single label corresponding to index ranging from 0 to 9"
      ]
    },
    {
      "cell_type": "code",
      "metadata": {
        "id": "ZYIrROZCyT2E",
        "colab_type": "code",
        "colab": {}
      },
      "source": [
        "class_names = ['T-shirt/top', 'Trouser', 'Pullover', 'Dress', 'Coat', \n",
        "               'Sandal', 'Shirt', 'Sneaker', 'Bag', 'Ankle boot']"
      ],
      "execution_count": 0,
      "outputs": []
    },
    {
      "cell_type": "markdown",
      "metadata": {
        "id": "eqpnVZomyT2I",
        "colab_type": "text"
      },
      "source": [
        "The Fashion MNIST dataset which contains 70,000 grayscale images in 10 categories. Each image has a size of 28 x 28 pixel. 60,000 images are used to train the network and 10,000 images are used to evaluate how accurately the network learned to classify images."
      ]
    },
    {
      "cell_type": "code",
      "metadata": {
        "hidden": true,
        "id": "Ug_1JVdoyT2K",
        "colab_type": "code",
        "outputId": "fcd2d6bc-a3c9-467a-f05c-239b0de0ba4f",
        "colab": {
          "base_uri": "https://localhost:8080/",
          "height": 34
        }
      },
      "source": [
        "(X, y), (X_test, y_test) = fashion_mnist.load_data()\n",
        "(X.shape, y.shape, X_test.shape, y_test.shape)"
      ],
      "execution_count": 0,
      "outputs": [
        {
          "output_type": "execute_result",
          "data": {
            "text/plain": [
              "((60000, 28, 28), (60000,), (10000, 28, 28), (10000,))"
            ]
          },
          "metadata": {
            "tags": []
          },
          "execution_count": 7
        }
      ]
    },
    {
      "cell_type": "markdown",
      "metadata": {
        "id": "U5PxFS1iyT2O",
        "colab_type": "text"
      },
      "source": [
        "I would split the 60k images into 50k for training and 10k for validation."
      ]
    },
    {
      "cell_type": "code",
      "metadata": {
        "id": "Ne_CIHcvyT2P",
        "colab_type": "code",
        "colab": {}
      },
      "source": [
        "X_train = X[:50000]\n",
        "y_train = y[:50000]\n",
        "X_valid = X[50000:]\n",
        "y_valid = y[50000:]"
      ],
      "execution_count": 0,
      "outputs": []
    },
    {
      "cell_type": "markdown",
      "metadata": {
        "id": "06TRlGq3yT2T",
        "colab_type": "text"
      },
      "source": [
        "Inspect the first image in the training set, we can see that the pixel values fall in the range of 0 to 255:"
      ]
    },
    {
      "cell_type": "code",
      "metadata": {
        "scrolled": true,
        "id": "2ym7ZTbxyT2V",
        "colab_type": "code",
        "outputId": "128339fa-7a52-422e-d9b3-78dcc72e826f",
        "colab": {
          "base_uri": "https://localhost:8080/",
          "height": 269
        }
      },
      "source": [
        "plt.figure()\n",
        "plt.imshow(X_train[0])\n",
        "plt.colorbar()\n",
        "plt.grid(False)"
      ],
      "execution_count": 0,
      "outputs": [
        {
          "output_type": "display_data",
          "data": {
            "image/png": "[encoded data removed]",
            "text/plain": [
              "<Figure size 432x288 with 2 Axes>"
            ]
          },
          "metadata": {
            "tags": []
          }
        }
      ]
    },
    {
      "cell_type": "markdown",
      "metadata": {
        "id": "QvTZooKAyT2Z",
        "colab_type": "text"
      },
      "source": [
        "Display the first 25 images from the training set and display the class name below each image."
      ]
    },
    {
      "cell_type": "code",
      "metadata": {
        "id": "0IAE96kyyT2a",
        "colab_type": "code",
        "outputId": "4bc89d88-d4ed-4667-eba7-79dfc2b5e8ff",
        "colab": {
          "base_uri": "https://localhost:8080/",
          "height": 592
        }
      },
      "source": [
        "plt.figure(figsize=(10,10))\n",
        "for i in range(25):\n",
        "    plt.subplot(5,5,i+1)\n",
        "    plt.xticks([])\n",
        "    plt.yticks([])\n",
        "    plt.grid(False)\n",
        "    plt.imshow(X_train[i], cmap=plt.cm.binary)\n",
        "    plt.xlabel(class_names[y_train[i]])"
      ],
      "execution_count": 0,
      "outputs": [
        {
          "output_type": "display_data",
          "data": {
            "image/png": "[encoded data removed]",
            "text/plain": [
              "<Figure size 720x720 with 25 Axes>"
            ]
          },
          "metadata": {
            "tags": []
          }
        }
      ]
    },
    {
      "cell_type": "markdown",
      "metadata": {
        "id": "dXb_xlTRyT2f",
        "colab_type": "text"
      },
      "source": [
        "Adding a color channel dimension. Since all the images are in grayscale, the number of channels is 1"
      ]
    },
    {
      "cell_type": "code",
      "metadata": {
        "hidden": true,
        "id": "WhlbXmx2yT2g",
        "colab_type": "code",
        "colab": {}
      },
      "source": [
        "X_test = np.expand_dims(X_test, -1)\n",
        "X_valid = np.expand_dims(X_valid, -1)\n",
        "X_train = np.expand_dims(X_train, -1)"
      ],
      "execution_count": 0,
      "outputs": []
    },
    {
      "cell_type": "code",
      "metadata": {
        "hidden": true,
        "id": "A0WyatkuyT2k",
        "colab_type": "code",
        "outputId": "b6a6fdc7-56e5-4ab9-ebc1-b01949849e8e",
        "colab": {
          "base_uri": "https://localhost:8080/",
          "height": 34
        }
      },
      "source": [
        "X_train.shape"
      ],
      "execution_count": 0,
      "outputs": [
        {
          "output_type": "execute_result",
          "data": {
            "text/plain": [
              "(50000, 28, 28, 1)"
            ]
          },
          "metadata": {
            "tags": []
          },
          "execution_count": 12
        }
      ]
    },
    {
      "cell_type": "code",
      "metadata": {
        "hidden": true,
        "scrolled": true,
        "id": "Q4eIQ__SyT2o",
        "colab_type": "code",
        "outputId": "31e5d78d-3b65-4e67-d1e6-10f79cd11e61",
        "colab": {
          "base_uri": "https://localhost:8080/",
          "height": 34
        }
      },
      "source": [
        "y_train[:5]"
      ],
      "execution_count": 0,
      "outputs": [
        {
          "output_type": "execute_result",
          "data": {
            "text/plain": [
              "array([9, 0, 0, 3, 0], dtype=uint8)"
            ]
          },
          "metadata": {
            "tags": []
          },
          "execution_count": 13
        }
      ]
    },
    {
      "cell_type": "markdown",
      "metadata": {
        "id": "tDuObI2gyT3C",
        "colab_type": "text"
      },
      "source": [
        "Choose a batch size that fits TPU memory"
      ]
    },
    {
      "cell_type": "code",
      "metadata": {
        "hidden": true,
        "id": "ax24RAUfyT3D",
        "colab_type": "code",
        "colab": {}
      },
      "source": [
        "batch_size = 1024"
      ],
      "execution_count": 0,
      "outputs": []
    },
    {
      "cell_type": "markdown",
      "metadata": {
        "id": "K37DQEEX3i-c",
        "colab_type": "text"
      },
      "source": [
        "Images are normalized by subtracting the mean and dividing by standard deviation"
      ]
    },
    {
      "cell_type": "code",
      "metadata": {
        "id": "3pH7nWqg0Mt_",
        "colab_type": "code",
        "colab": {}
      },
      "source": [
        "gen = ImageDataGenerator(featurewise_center=True, featurewise_std_normalization=True)\n",
        "gen.fit(X_train)\n",
        "batches = gen.flow(X_train, y_train, batch_size=batch_size)\n",
        "valid_batches = gen.flow(X_valid, y_valid, batch_size=batch_size)\n",
        "test_batches = gen.flow(X_test, y_test, batch_size=batch_size, shuffle=False)"
      ],
      "execution_count": 0,
      "outputs": []
    },
    {
      "cell_type": "code",
      "metadata": {
        "id": "ybq3u9VoeOiY",
        "colab_type": "code",
        "colab": {}
      },
      "source": [
        "model_path = '/content/drive/My Drive/colab_models/fashion_mnist/'\n",
        "def save_model(model, name, del_model=True):\n",
        "    model.save_weights(model_path + name, overwrite=True)\n",
        "    if del_model:\n",
        "        del model"
      ],
      "execution_count": 0,
      "outputs": []
    },
    {
      "cell_type": "markdown",
      "metadata": {
        "heading_collapsed": true,
        "id": "J4X-Z4cTyT3J",
        "colab_type": "text"
      },
      "source": [
        "## Linear model"
      ]
    },
    {
      "cell_type": "markdown",
      "metadata": {
        "id": "m8B_o6KhyT3L",
        "colab_type": "text"
      },
      "source": [
        "**1. First, I would try with the simple linear model with the following architecture:**  \n",
        "Weights are initialized by Xavier Glorot initialization scheme."
      ]
    },
    {
      "cell_type": "code",
      "metadata": {
        "hidden": true,
        "id": "qVkXnNHNyT3M",
        "colab_type": "code",
        "colab": {}
      },
      "source": [
        "def get_lin_model():\n",
        "    model = Sequential([\n",
        "        Flatten(input_shape=(28, 28, 1)), \n",
        "        Dense(10, activation='softmax')])\n",
        "    \n",
        "    tpu_model = tf.contrib.tpu.keras_to_tpu_model(\n",
        "        model,\n",
        "        strategy=tf.contrib.tpu.TPUDistributionStrategy(\n",
        "            tf.contrib.cluster_resolver.TPUClusterResolver(tpu=TPU_WORKER))\n",
        "    )\n",
        "    \n",
        "    tpu_model.compile(Adam(), loss='sparse_categorical_crossentropy', metrics=['sparse_categorical_accuracy'])\n",
        "    return tpu_model"
      ],
      "execution_count": 0,
      "outputs": []
    },
    {
      "cell_type": "code",
      "metadata": {
        "id": "JVnNMY16z8D2",
        "colab_type": "code",
        "outputId": "826b56a6-886c-4d8b-e9da-514032d2676b",
        "colab": {
          "base_uri": "https://localhost:8080/",
          "height": 54
        }
      },
      "source": [
        "lm = get_lin_model()"
      ],
      "execution_count": 0,
      "outputs": [
        {
          "output_type": "stream",
          "text": [
            "WARNING:tensorflow:tpu_model (from tensorflow.contrib.tpu.python.tpu.keras_support) is experimental and may change or be removed at any time, and without warning.\n"
          ],
          "name": "stdout"
        }
      ]
    },
    {
      "cell_type": "code",
      "metadata": {
        "hidden": true,
        "id": "rpCQbU1yyT3e",
        "colab_type": "code",
        "outputId": "de754ca8-2313-4795-9984-31409b6de9bd",
        "colab": {
          "base_uri": "https://localhost:8080/",
          "height": 90
        }
      },
      "source": [
        "lm.fit_generator(batches, epochs=1, validation_data=valid_batches)"
      ],
      "execution_count": 0,
      "outputs": [
        {
          "output_type": "stream",
          "text": [
            "Epoch 1/1\n",
            "49/49 [==============================] - 7s 133ms/step - loss: 1.1123 - sparse_categorical_accuracy: 0.6119 - val_loss: 0.6389 - val_sparse_categorical_accuracy: 0.7664\n"
          ],
          "name": "stdout"
        },
        {
          "output_type": "execute_result",
          "data": {
            "text/plain": [
              "<tensorflow.python.keras.callbacks.History at 0x7f71399557b8>"
            ]
          },
          "metadata": {
            "tags": []
          },
          "execution_count": 19
        }
      ]
    },
    {
      "cell_type": "code",
      "metadata": {
        "hidden": true,
        "id": "mIbbWj_LyT3i",
        "colab_type": "code",
        "colab": {}
      },
      "source": [
        "lm.optimizer.lr = 0.1"
      ],
      "execution_count": 0,
      "outputs": []
    },
    {
      "cell_type": "code",
      "metadata": {
        "hidden": true,
        "id": "AapTKAk0yT3l",
        "colab_type": "code",
        "outputId": "988fa536-d982-48a7-c071-f489f98b713c",
        "colab": {
          "base_uri": "https://localhost:8080/",
          "height": 90
        }
      },
      "source": [
        "lm.fit_generator(batches, epochs=1, validation_data=valid_batches)"
      ],
      "execution_count": 0,
      "outputs": [
        {
          "output_type": "stream",
          "text": [
            "Epoch 1/1\n",
            "49/49 [==============================] - 3s 54ms/step - loss: 0.6037 - sparse_categorical_accuracy: 0.7952 - val_loss: 0.5613 - val_sparse_categorical_accuracy: 0.7928\n"
          ],
          "name": "stdout"
        },
        {
          "output_type": "execute_result",
          "data": {
            "text/plain": [
              "<tensorflow.python.keras.callbacks.History at 0x7f71398b5f28>"
            ]
          },
          "metadata": {
            "tags": []
          },
          "execution_count": 21
        }
      ]
    },
    {
      "cell_type": "code",
      "metadata": {
        "hidden": true,
        "id": "dglXPgnlyT3p",
        "colab_type": "code",
        "colab": {}
      },
      "source": [
        "lm.optimizer.lr = 0.01"
      ],
      "execution_count": 0,
      "outputs": []
    },
    {
      "cell_type": "code",
      "metadata": {
        "hidden": true,
        "scrolled": false,
        "id": "vfLIDzmyyT3s",
        "colab_type": "code",
        "outputId": "38402ac6-08a5-4559-9978-d8bd0376e98f",
        "colab": {
          "base_uri": "https://localhost:8080/",
          "height": 195
        }
      },
      "source": [
        "lm.fit_generator(batches, epochs=4, validation_data=valid_batches)"
      ],
      "execution_count": 0,
      "outputs": [
        {
          "output_type": "stream",
          "text": [
            "Epoch 1/4\n",
            "49/49 [==============================] - 3s 51ms/step - loss: 0.5511 - sparse_categorical_accuracy: 0.8109 - val_loss: 0.5235 - val_sparse_categorical_accuracy: 0.8096\n",
            "Epoch 2/4\n",
            "49/49 [==============================] - 2s 50ms/step - loss: 0.4964 - sparse_categorical_accuracy: 0.8291 - val_loss: 0.5004 - val_sparse_categorical_accuracy: 0.8176\n",
            "Epoch 3/4\n",
            "49/49 [==============================] - 3s 54ms/step - loss: 0.4834 - sparse_categorical_accuracy: 0.8354 - val_loss: 0.4717 - val_sparse_categorical_accuracy: 0.8256\n",
            "Epoch 4/4\n",
            "49/49 [==============================] - 3s 56ms/step - loss: 0.4824 - sparse_categorical_accuracy: 0.8341 - val_loss: 0.4618 - val_sparse_categorical_accuracy: 0.8288\n"
          ],
          "name": "stdout"
        },
        {
          "output_type": "execute_result",
          "data": {
            "text/plain": [
              "<tensorflow.python.keras.callbacks.History at 0x7f71398879b0>"
            ]
          },
          "metadata": {
            "tags": []
          },
          "execution_count": 23
        }
      ]
    },
    {
      "cell_type": "code",
      "metadata": {
        "id": "2ER1M2rByT3v",
        "colab_type": "code",
        "outputId": "ca36cbd7-2957-4299-b00d-86e6d48f2f50",
        "colab": {
          "base_uri": "https://localhost:8080/",
          "height": 34
        }
      },
      "source": [
        "test_loss, test_acc = lm.evaluate_generator(test_batches)\n",
        "print('Test accuracy:', test_acc)"
      ],
      "execution_count": 0,
      "outputs": [
        {
          "output_type": "stream",
          "text": [
            "Test accuracy: 0.8199999975204468\n"
          ],
          "name": "stdout"
        }
      ]
    },
    {
      "cell_type": "code",
      "metadata": {
        "id": "qxqaQ4lGAo70",
        "colab_type": "code",
        "colab": {}
      },
      "source": [
        "save_model(lm, 'linear_model.h5')\n",
        "clear_session()"
      ],
      "execution_count": 0,
      "outputs": []
    },
    {
      "cell_type": "markdown",
      "metadata": {
        "heading_collapsed": true,
        "id": "2muEVB9ZyT3z",
        "colab_type": "text"
      },
      "source": [
        "## Single dense layer"
      ]
    },
    {
      "cell_type": "markdown",
      "metadata": {
        "id": "T2MUNI9nyT30",
        "colab_type": "text"
      },
      "source": [
        "**2. Second, I would add a non-linear layer with a relu activation:**"
      ]
    },
    {
      "cell_type": "code",
      "metadata": {
        "hidden": true,
        "id": "qrCho_XTyT31",
        "colab_type": "code",
        "colab": {}
      },
      "source": [
        "def get_fc_model():\n",
        "    model = Sequential([\n",
        "        Flatten(input_shape=(28, 28, 1)),\n",
        "        Dense(256, activation='relu'),\n",
        "        Dense(10, activation='softmax')\n",
        "        ])\n",
        "    \n",
        "    tpu_model = tf.contrib.tpu.keras_to_tpu_model(\n",
        "        model,\n",
        "        strategy=tf.contrib.tpu.TPUDistributionStrategy(\n",
        "            tf.contrib.cluster_resolver.TPUClusterResolver(tpu=TPU_WORKER))\n",
        "    )\n",
        "    \n",
        "    tpu_model.compile(Adam(), loss='sparse_categorical_crossentropy', metrics=['sparse_categorical_accuracy'])\n",
        "    return tpu_model"
      ],
      "execution_count": 0,
      "outputs": []
    },
    {
      "cell_type": "code",
      "metadata": {
        "hidden": true,
        "id": "5PAXXvLQyT34",
        "colab_type": "code",
        "outputId": "77ec0583-9184-4461-8c18-29b0fb3c2b7e",
        "colab": {
          "base_uri": "https://localhost:8080/",
          "height": 54
        }
      },
      "source": [
        "fc = get_fc_model()"
      ],
      "execution_count": 0,
      "outputs": [
        {
          "output_type": "stream",
          "text": [
            "WARNING:tensorflow:tpu_model (from tensorflow.contrib.tpu.python.tpu.keras_support) is experimental and may change or be removed at any time, and without warning.\n"
          ],
          "name": "stdout"
        }
      ]
    },
    {
      "cell_type": "code",
      "metadata": {
        "hidden": true,
        "id": "LNxzVJmryT3-",
        "colab_type": "code",
        "outputId": "05943426-c50f-4dfc-a952-529c7ec98713",
        "colab": {
          "base_uri": "https://localhost:8080/",
          "height": 90
        }
      },
      "source": [
        "fc.fit_generator(batches, epochs=1, validation_data=valid_batches)"
      ],
      "execution_count": 0,
      "outputs": [
        {
          "output_type": "stream",
          "text": [
            "Epoch 1/1\n",
            "49/49 [==============================] - 10s 204ms/step - loss: 0.7134 - sparse_categorical_accuracy: 0.7519 - val_loss: 0.5611 - val_sparse_categorical_accuracy: 0.7936\n"
          ],
          "name": "stdout"
        },
        {
          "output_type": "execute_result",
          "data": {
            "text/plain": [
              "<tensorflow.python.keras.callbacks.History at 0x7f7138af4748>"
            ]
          },
          "metadata": {
            "tags": []
          },
          "execution_count": 28
        }
      ]
    },
    {
      "cell_type": "code",
      "metadata": {
        "hidden": true,
        "id": "GtHNkfbJyT4D",
        "colab_type": "code",
        "colab": {}
      },
      "source": [
        "fc.optimizer.lr = 0.1"
      ],
      "execution_count": 0,
      "outputs": []
    },
    {
      "cell_type": "code",
      "metadata": {
        "hidden": true,
        "id": "17nLTimqyT4G",
        "colab_type": "code",
        "outputId": "73eb5e85-1eb7-4010-ea9e-59ec10e50cb3",
        "colab": {
          "base_uri": "https://localhost:8080/",
          "height": 195
        }
      },
      "source": [
        "fc.fit_generator(batches, epochs=4, validation_data=valid_batches)"
      ],
      "execution_count": 0,
      "outputs": [
        {
          "output_type": "stream",
          "text": [
            "Epoch 1/4\n",
            "49/49 [==============================] - 3s 58ms/step - loss: 0.4482 - sparse_categorical_accuracy: 0.8444 - val_loss: 0.3987 - val_sparse_categorical_accuracy: 0.8648\n",
            "Epoch 2/4\n",
            "49/49 [==============================] - 2s 51ms/step - loss: 0.3998 - sparse_categorical_accuracy: 0.8583 - val_loss: 0.3782 - val_sparse_categorical_accuracy: 0.8624\n",
            "Epoch 3/4\n",
            "49/49 [==============================] - 3s 56ms/step - loss: 0.3446 - sparse_categorical_accuracy: 0.8773 - val_loss: 0.3642 - val_sparse_categorical_accuracy: 0.8712\n",
            "Epoch 4/4\n",
            "49/49 [==============================] - 3s 51ms/step - loss: 0.3393 - sparse_categorical_accuracy: 0.8814 - val_loss: 0.3629 - val_sparse_categorical_accuracy: 0.8728\n"
          ],
          "name": "stdout"
        },
        {
          "output_type": "execute_result",
          "data": {
            "text/plain": [
              "<tensorflow.python.keras.callbacks.History at 0x7f7138435390>"
            ]
          },
          "metadata": {
            "tags": []
          },
          "execution_count": 30
        }
      ]
    },
    {
      "cell_type": "code",
      "metadata": {
        "hidden": true,
        "id": "-2xwJzGsyT4J",
        "colab_type": "code",
        "colab": {}
      },
      "source": [
        "fc.optimizer.lr = 0.01"
      ],
      "execution_count": 0,
      "outputs": []
    },
    {
      "cell_type": "code",
      "metadata": {
        "hidden": true,
        "scrolled": false,
        "id": "jt100U1syT4M",
        "colab_type": "code",
        "outputId": "4aa9ace3-eef1-4b42-df5c-0de6050b320e",
        "colab": {
          "base_uri": "https://localhost:8080/",
          "height": 195
        }
      },
      "source": [
        "fc.fit_generator(batches, epochs=4, validation_data=valid_batches)"
      ],
      "execution_count": 0,
      "outputs": [
        {
          "output_type": "stream",
          "text": [
            "Epoch 1/4\n",
            "49/49 [==============================] - 3s 60ms/step - loss: 0.3299 - sparse_categorical_accuracy: 0.8862 - val_loss: 0.3401 - val_sparse_categorical_accuracy: 0.8840\n",
            "Epoch 2/4\n",
            "49/49 [==============================] - 3s 55ms/step - loss: 0.3145 - sparse_categorical_accuracy: 0.8896 - val_loss: 0.3439 - val_sparse_categorical_accuracy: 0.8776\n",
            "Epoch 3/4\n",
            "49/49 [==============================] - 3s 55ms/step - loss: 0.2895 - sparse_categorical_accuracy: 0.8959 - val_loss: 0.3184 - val_sparse_categorical_accuracy: 0.8888\n",
            "Epoch 4/4\n",
            "49/49 [==============================] - 3s 58ms/step - loss: 0.2832 - sparse_categorical_accuracy: 0.8950 - val_loss: 0.3085 - val_sparse_categorical_accuracy: 0.8856\n"
          ],
          "name": "stdout"
        },
        {
          "output_type": "execute_result",
          "data": {
            "text/plain": [
              "<tensorflow.python.keras.callbacks.History at 0x7f713469bc50>"
            ]
          },
          "metadata": {
            "tags": []
          },
          "execution_count": 32
        }
      ]
    },
    {
      "cell_type": "code",
      "metadata": {
        "id": "yH2WsyS3yT4S",
        "colab_type": "code",
        "outputId": "b02983b5-0f10-4148-b872-45f6c8e63531",
        "colab": {
          "base_uri": "https://localhost:8080/",
          "height": 34
        }
      },
      "source": [
        "test_loss, test_acc = fc.evaluate_generator(test_batches)\n",
        "print('Test accuracy:', test_acc)"
      ],
      "execution_count": 0,
      "outputs": [
        {
          "output_type": "stream",
          "text": [
            "Test accuracy: 0.8735999982833862\n"
          ],
          "name": "stdout"
        }
      ]
    },
    {
      "cell_type": "code",
      "metadata": {
        "id": "kPikpkgwAjuh",
        "colab_type": "code",
        "colab": {}
      },
      "source": [
        "save_model(fc, 'fc_model.h5')\n",
        "clear_session()"
      ],
      "execution_count": 0,
      "outputs": []
    },
    {
      "cell_type": "markdown",
      "metadata": {
        "heading_collapsed": true,
        "id": "hyTkn9-IyT4X",
        "colab_type": "text"
      },
      "source": [
        "## Basic 'VGG-style' CNN"
      ]
    },
    {
      "cell_type": "markdown",
      "metadata": {
        "id": "KXUoTWCSyT4Y",
        "colab_type": "text"
      },
      "source": [
        "**3. Third, I would try the architecture similar to VGG16:**  \n",
        "The VGG model won the 2014 Imagenet competition and is a very simple model to create and understand."
      ]
    },
    {
      "cell_type": "code",
      "metadata": {
        "hidden": true,
        "id": "Z0_VJCJbyT4a",
        "colab_type": "code",
        "colab": {}
      },
      "source": [
        "def get_model():\n",
        "    model = Sequential([\n",
        "        Conv2D(32,(3, 3), activation='relu', input_shape=(28, 28, 1)),\n",
        "        Conv2D(32, (3, 3), activation='relu'),\n",
        "        MaxPool2D(),\n",
        "        Conv2D(64, (3, 3), activation='relu'),\n",
        "        Conv2D(64, (3, 3), activation='relu'),\n",
        "        MaxPool2D(),\n",
        "        Flatten(),\n",
        "        Dense(256, activation='relu'),\n",
        "        Dense(10, activation='softmax')\n",
        "        ])\n",
        "    \n",
        "    tpu_model = tf.contrib.tpu.keras_to_tpu_model(\n",
        "        model,\n",
        "        strategy=tf.contrib.tpu.TPUDistributionStrategy(\n",
        "            tf.contrib.cluster_resolver.TPUClusterResolver(tpu=TPU_WORKER))\n",
        "    )\n",
        "    \n",
        "    tpu_model.compile(Adam(), loss='sparse_categorical_crossentropy', metrics=['sparse_categorical_accuracy'])\n",
        "    return tpu_model"
      ],
      "execution_count": 0,
      "outputs": []
    },
    {
      "cell_type": "code",
      "metadata": {
        "hidden": true,
        "id": "NUnX1on0yT4d",
        "colab_type": "code",
        "outputId": "6e6c0325-5638-4228-bbc7-6a7943207c87",
        "colab": {
          "base_uri": "https://localhost:8080/",
          "height": 54
        }
      },
      "source": [
        "model = get_model()"
      ],
      "execution_count": 0,
      "outputs": [
        {
          "output_type": "stream",
          "text": [
            "WARNING:tensorflow:tpu_model (from tensorflow.contrib.tpu.python.tpu.keras_support) is experimental and may change or be removed at any time, and without warning.\n"
          ],
          "name": "stdout"
        }
      ]
    },
    {
      "cell_type": "code",
      "metadata": {
        "hidden": true,
        "id": "9B0l03L4yT4h",
        "colab_type": "code",
        "outputId": "e8ca4272-a4f8-467c-f7d5-5ca1a1c0bd96",
        "colab": {
          "base_uri": "https://localhost:8080/",
          "height": 90
        }
      },
      "source": [
        "model.fit_generator(batches, epochs=1, validation_data=valid_batches)"
      ],
      "execution_count": 0,
      "outputs": [
        {
          "output_type": "stream",
          "text": [
            "Epoch 1/1\n",
            "49/49 [==============================] - 21s 428ms/step - loss: 0.9071 - sparse_categorical_accuracy: 0.6804 - val_loss: 0.5072 - val_sparse_categorical_accuracy: 0.7936\n"
          ],
          "name": "stdout"
        },
        {
          "output_type": "execute_result",
          "data": {
            "text/plain": [
              "<tensorflow.python.keras.callbacks.History at 0x7f7138183278>"
            ]
          },
          "metadata": {
            "tags": []
          },
          "execution_count": 37
        }
      ]
    },
    {
      "cell_type": "code",
      "metadata": {
        "hidden": true,
        "id": "qJBF80dCyT4k",
        "colab_type": "code",
        "colab": {}
      },
      "source": [
        "model.optimizer.lr = 0.1"
      ],
      "execution_count": 0,
      "outputs": []
    },
    {
      "cell_type": "code",
      "metadata": {
        "hidden": true,
        "id": "qFTUegqKyT4o",
        "colab_type": "code",
        "outputId": "92c7b63e-eb5b-4fb5-f313-f54cca78988a",
        "colab": {
          "base_uri": "https://localhost:8080/",
          "height": 90
        }
      },
      "source": [
        "model.fit_generator(batches, epochs=1, validation_data=valid_batches)"
      ],
      "execution_count": 0,
      "outputs": [
        {
          "output_type": "stream",
          "text": [
            "Epoch 1/1\n",
            "49/49 [==============================] - 3s 65ms/step - loss: 0.5326 - sparse_categorical_accuracy: 0.8102 - val_loss: 0.5241 - val_sparse_categorical_accuracy: 0.8184\n"
          ],
          "name": "stdout"
        },
        {
          "output_type": "execute_result",
          "data": {
            "text/plain": [
              "<tensorflow.python.keras.callbacks.History at 0x7f71307b5710>"
            ]
          },
          "metadata": {
            "tags": []
          },
          "execution_count": 39
        }
      ]
    },
    {
      "cell_type": "code",
      "metadata": {
        "hidden": true,
        "id": "OJH4QidFyT4r",
        "colab_type": "code",
        "colab": {}
      },
      "source": [
        "model.optimizer.lr = 0.01"
      ],
      "execution_count": 0,
      "outputs": []
    },
    {
      "cell_type": "code",
      "metadata": {
        "hidden": true,
        "scrolled": true,
        "id": "3TS6YPJIyT40",
        "colab_type": "code",
        "outputId": "677a07dc-4aa5-492a-967d-d1580ca7da45",
        "colab": {
          "base_uri": "https://localhost:8080/",
          "height": 336
        }
      },
      "source": [
        "model.fit_generator(batches, epochs=8, validation_data=valid_batches)"
      ],
      "execution_count": 0,
      "outputs": [
        {
          "output_type": "stream",
          "text": [
            "Epoch 1/8\n",
            "49/49 [==============================] - 3s 62ms/step - loss: 0.4397 - sparse_categorical_accuracy: 0.8433 - val_loss: 0.4295 - val_sparse_categorical_accuracy: 0.8544\n",
            "Epoch 2/8\n",
            "49/49 [==============================] - 3s 66ms/step - loss: 0.3711 - sparse_categorical_accuracy: 0.8641 - val_loss: 0.5383 - val_sparse_categorical_accuracy: 0.8088\n",
            "Epoch 3/8\n",
            "49/49 [==============================] - 3s 64ms/step - loss: 0.3773 - sparse_categorical_accuracy: 0.8623 - val_loss: 0.3794 - val_sparse_categorical_accuracy: 0.8648\n",
            "Epoch 4/8\n",
            "49/49 [==============================] - 3s 67ms/step - loss: 0.3162 - sparse_categorical_accuracy: 0.8862 - val_loss: 0.3395 - val_sparse_categorical_accuracy: 0.8872\n",
            "Epoch 5/8\n",
            "49/49 [==============================] - 3s 62ms/step - loss: 0.3014 - sparse_categorical_accuracy: 0.8911 - val_loss: 0.3064 - val_sparse_categorical_accuracy: 0.8968\n",
            "Epoch 6/8\n",
            "49/49 [==============================] - 3s 65ms/step - loss: 0.2735 - sparse_categorical_accuracy: 0.8996 - val_loss: 0.3106 - val_sparse_categorical_accuracy: 0.8960\n",
            "Epoch 7/8\n",
            "49/49 [==============================] - 3s 67ms/step - loss: 0.2460 - sparse_categorical_accuracy: 0.9109 - val_loss: 0.2899 - val_sparse_categorical_accuracy: 0.9008\n",
            "Epoch 8/8\n",
            "49/49 [==============================] - 3s 64ms/step - loss: 0.2464 - sparse_categorical_accuracy: 0.9114 - val_loss: 0.2903 - val_sparse_categorical_accuracy: 0.9056\n"
          ],
          "name": "stdout"
        },
        {
          "output_type": "execute_result",
          "data": {
            "text/plain": [
              "<tensorflow.python.keras.callbacks.History at 0x7f713821e358>"
            ]
          },
          "metadata": {
            "tags": []
          },
          "execution_count": 41
        }
      ]
    },
    {
      "cell_type": "code",
      "metadata": {
        "id": "xVIfpO85yT44",
        "colab_type": "code",
        "outputId": "178ef3ac-0061-4ccb-e37d-0def67994e32",
        "colab": {
          "base_uri": "https://localhost:8080/",
          "height": 34
        }
      },
      "source": [
        "test_loss, test_acc = model.evaluate_generator(test_batches)\n",
        "print('Test accuracy:', test_acc)"
      ],
      "execution_count": 0,
      "outputs": [
        {
          "output_type": "stream",
          "text": [
            "Test accuracy: 0.892800000667572\n"
          ],
          "name": "stdout"
        }
      ]
    },
    {
      "cell_type": "code",
      "metadata": {
        "id": "J6cOWrf0AlCO",
        "colab_type": "code",
        "colab": {}
      },
      "source": [
        "save_model(model, 'vgg_model.h5')\n",
        "clear_session()"
      ],
      "execution_count": 0,
      "outputs": []
    },
    {
      "cell_type": "markdown",
      "metadata": {
        "id": "wBDtWSDcyT48",
        "colab_type": "text"
      },
      "source": [
        "## Handling overfitting"
      ]
    },
    {
      "cell_type": "markdown",
      "metadata": {
        "id": "L9QCWpMZyT4-",
        "colab_type": "text"
      },
      "source": [
        "Here, the training accuracy so far has been higher than the validation accuracy, which also means overfitting. We have to propose approaches to reducing **overfitting**. We do not necessarily need to rely on dropout or other regularization approaches to reduce overfitting. There are other techniques we should try first, since regularization, by definition, biases our model towards simplicity - which we only want to do if we know that's necessary. This is the order that I use for reducing overfitting:\n",
        "  1. Add more data\n",
        "  2. Use data augmentation\n",
        "  3. Use architectures that generalize well\n",
        "  4. Add regularization\n",
        "  5. Reduce architecture complexity."
      ]
    },
    {
      "cell_type": "markdown",
      "metadata": {
        "heading_collapsed": true,
        "id": "L73bPsl2yT4_",
        "colab_type": "text"
      },
      "source": [
        "## Data augmentation"
      ]
    },
    {
      "cell_type": "markdown",
      "metadata": {
        "id": "rqS9so22yT5C",
        "colab_type": "text"
      },
      "source": [
        "**4. Fourth, adding data augmentation:**  \n",
        "With the assumption that we've already collected as much data as we can, so step (1) isn't relevant. So the next step (2) is data augmentation. This refers to creating additional synthetic data, based on reasonable modifications of our input data. For images, this is likely to involve one or more of: flipping, rotation, zooming, cropping, panning, minor color changes.\n",
        "For our photos, we'll want to use horizontal flipping, but not vertical flipping (since an upside down shirt is much less common than a shirt the right way up, for instance!)"
      ]
    },
    {
      "cell_type": "code",
      "metadata": {
        "hidden": true,
        "id": "cpcGHLXcyT5D",
        "colab_type": "code",
        "colab": {}
      },
      "source": [
        "gen = ImageDataGenerator(featurewise_center=True, featurewise_std_normalization=True, \n",
        "                         rotation_range=8, width_shift_range=0.08, shear_range=0.3, \n",
        "                         height_shift_range=0.08, zoom_range=0.08)\n",
        "gen.fit(X_train)\n",
        "batches = gen.flow(X_train, y_train, batch_size=batch_size)"
      ],
      "execution_count": 0,
      "outputs": []
    },
    {
      "cell_type": "code",
      "metadata": {
        "hidden": true,
        "id": "Kn31p01EyT5G",
        "colab_type": "code",
        "outputId": "0381c54d-b89b-4712-8ac9-c8ba263a9239",
        "colab": {
          "base_uri": "https://localhost:8080/",
          "height": 54
        }
      },
      "source": [
        "model = get_model()"
      ],
      "execution_count": 0,
      "outputs": [
        {
          "output_type": "stream",
          "text": [
            "WARNING:tensorflow:tpu_model (from tensorflow.contrib.tpu.python.tpu.keras_support) is experimental and may change or be removed at any time, and without warning.\n"
          ],
          "name": "stdout"
        }
      ]
    },
    {
      "cell_type": "code",
      "metadata": {
        "id": "iYSALhFStpXB",
        "colab_type": "code",
        "outputId": "f5e98f85-e073-4473-97a7-3917feb444e9",
        "colab": {
          "base_uri": "https://localhost:8080/",
          "height": 90
        }
      },
      "source": [
        "model.fit_generator(batches, epochs=1, validation_data=valid_batches)"
      ],
      "execution_count": 0,
      "outputs": [
        {
          "output_type": "stream",
          "text": [
            "Epoch 1/1\n",
            "49/49 [==============================] - 33s 681ms/step - loss: 1.0944 - sparse_categorical_accuracy: 0.6074 - val_loss: 0.7076 - val_sparse_categorical_accuracy: 0.7136\n"
          ],
          "name": "stdout"
        },
        {
          "output_type": "execute_result",
          "data": {
            "text/plain": [
              "<tensorflow.python.keras.callbacks.History at 0x7f71370f6f98>"
            ]
          },
          "metadata": {
            "tags": []
          },
          "execution_count": 46
        }
      ]
    },
    {
      "cell_type": "code",
      "metadata": {
        "hidden": true,
        "id": "Jw_GSQSFyT5M",
        "colab_type": "code",
        "colab": {}
      },
      "source": [
        "model.optimizer.lr = 0.1"
      ],
      "execution_count": 0,
      "outputs": []
    },
    {
      "cell_type": "code",
      "metadata": {
        "hidden": true,
        "id": "8tUipCvJyT5O",
        "colab_type": "code",
        "outputId": "f26f7ac5-4b67-4551-d560-80d080a1cb54",
        "colab": {
          "base_uri": "https://localhost:8080/",
          "height": 195
        }
      },
      "source": [
        "model.fit_generator(batches, epochs=4, validation_data=valid_batches)"
      ],
      "execution_count": 0,
      "outputs": [
        {
          "output_type": "stream",
          "text": [
            "Epoch 1/4\n",
            "49/49 [==============================] - 13s 261ms/step - loss: 0.6504 - sparse_categorical_accuracy: 0.7526 - val_loss: 0.5299 - val_sparse_categorical_accuracy: 0.7880\n",
            "Epoch 2/4\n",
            "49/49 [==============================] - 12s 244ms/step - loss: 0.5650 - sparse_categorical_accuracy: 0.7860 - val_loss: 0.4696 - val_sparse_categorical_accuracy: 0.8096\n",
            "Epoch 3/4\n",
            "49/49 [==============================] - 13s 256ms/step - loss: 0.4813 - sparse_categorical_accuracy: 0.8204 - val_loss: 0.4162 - val_sparse_categorical_accuracy: 0.8432\n",
            "Epoch 4/4\n",
            "49/49 [==============================] - 12s 250ms/step - loss: 0.4581 - sparse_categorical_accuracy: 0.8252 - val_loss: 0.4078 - val_sparse_categorical_accuracy: 0.8480\n"
          ],
          "name": "stdout"
        },
        {
          "output_type": "execute_result",
          "data": {
            "text/plain": [
              "<tensorflow.python.keras.callbacks.History at 0x7f7133c56668>"
            ]
          },
          "metadata": {
            "tags": []
          },
          "execution_count": 48
        }
      ]
    },
    {
      "cell_type": "code",
      "metadata": {
        "hidden": true,
        "id": "CONzDmV9yT5R",
        "colab_type": "code",
        "colab": {}
      },
      "source": [
        "model.optimizer.lr = 0.01"
      ],
      "execution_count": 0,
      "outputs": []
    },
    {
      "cell_type": "code",
      "metadata": {
        "hidden": true,
        "id": "6sc6vJOcyT5T",
        "colab_type": "code",
        "outputId": "7f58fd67-9538-4a37-90d2-134218ffa120",
        "colab": {
          "base_uri": "https://localhost:8080/",
          "height": 336
        }
      },
      "source": [
        "model.fit_generator(batches, epochs=8, validation_data=valid_batches)"
      ],
      "execution_count": 0,
      "outputs": [
        {
          "output_type": "stream",
          "text": [
            "Epoch 1/8\n",
            "49/49 [==============================] - 13s 258ms/step - loss: 0.4124 - sparse_categorical_accuracy: 0.8520 - val_loss: 0.3684 - val_sparse_categorical_accuracy: 0.8648\n",
            "Epoch 2/8\n",
            "49/49 [==============================] - 12s 252ms/step - loss: 0.4033 - sparse_categorical_accuracy: 0.8469 - val_loss: 0.3275 - val_sparse_categorical_accuracy: 0.8760\n",
            "Epoch 3/8\n",
            "49/49 [==============================] - 12s 254ms/step - loss: 0.3717 - sparse_categorical_accuracy: 0.8587 - val_loss: 0.3451 - val_sparse_categorical_accuracy: 0.8728\n",
            "Epoch 4/8\n",
            "49/49 [==============================] - 12s 251ms/step - loss: 0.3627 - sparse_categorical_accuracy: 0.8641 - val_loss: 0.3461 - val_sparse_categorical_accuracy: 0.8712\n",
            "Epoch 5/8\n",
            "49/49 [==============================] - 13s 257ms/step - loss: 0.3422 - sparse_categorical_accuracy: 0.8680 - val_loss: 0.3403 - val_sparse_categorical_accuracy: 0.8800\n",
            "Epoch 6/8\n",
            "49/49 [==============================] - 12s 250ms/step - loss: 0.3369 - sparse_categorical_accuracy: 0.8696 - val_loss: 0.3230 - val_sparse_categorical_accuracy: 0.8864\n",
            "Epoch 7/8\n",
            "49/49 [==============================] - 12s 251ms/step - loss: 0.3235 - sparse_categorical_accuracy: 0.8763 - val_loss: 0.3144 - val_sparse_categorical_accuracy: 0.8936\n",
            "Epoch 8/8\n",
            "49/49 [==============================] - 12s 249ms/step - loss: 0.3049 - sparse_categorical_accuracy: 0.8847 - val_loss: 0.2997 - val_sparse_categorical_accuracy: 0.8984\n"
          ],
          "name": "stdout"
        },
        {
          "output_type": "execute_result",
          "data": {
            "text/plain": [
              "<tensorflow.python.keras.callbacks.History at 0x7f7133c56978>"
            ]
          },
          "metadata": {
            "tags": []
          },
          "execution_count": 50
        }
      ]
    },
    {
      "cell_type": "code",
      "metadata": {
        "hidden": true,
        "id": "uIt2rOVTyT5W",
        "colab_type": "code",
        "colab": {}
      },
      "source": [
        "model.optimizer.lr = 0.001"
      ],
      "execution_count": 0,
      "outputs": []
    },
    {
      "cell_type": "code",
      "metadata": {
        "hidden": true,
        "id": "1dEe-YbyyT5Z",
        "colab_type": "code",
        "outputId": "1c245636-441c-4927-f05f-c943bc81d9cd",
        "colab": {
          "base_uri": "https://localhost:8080/",
          "height": 547
        }
      },
      "source": [
        "model.fit_generator(batches, epochs=14, validation_data=valid_batches)"
      ],
      "execution_count": 0,
      "outputs": [
        {
          "output_type": "stream",
          "text": [
            "Epoch 1/14\n",
            "49/49 [==============================] - 13s 258ms/step - loss: 0.3041 - sparse_categorical_accuracy: 0.8893 - val_loss: 0.3028 - val_sparse_categorical_accuracy: 0.8960\n",
            "Epoch 2/14\n",
            "49/49 [==============================] - 12s 249ms/step - loss: 0.2993 - sparse_categorical_accuracy: 0.8884 - val_loss: 0.2830 - val_sparse_categorical_accuracy: 0.9008\n",
            "Epoch 3/14\n",
            "49/49 [==============================] - 12s 252ms/step - loss: 0.3081 - sparse_categorical_accuracy: 0.8887 - val_loss: 0.2892 - val_sparse_categorical_accuracy: 0.8928\n",
            "Epoch 4/14\n",
            "49/49 [==============================] - 12s 247ms/step - loss: 0.2758 - sparse_categorical_accuracy: 0.9006 - val_loss: 0.2784 - val_sparse_categorical_accuracy: 0.9008\n",
            "Epoch 5/14\n",
            "49/49 [==============================] - 12s 246ms/step - loss: 0.2905 - sparse_categorical_accuracy: 0.8921 - val_loss: 0.2479 - val_sparse_categorical_accuracy: 0.9032\n",
            "Epoch 6/14\n",
            "49/49 [==============================] - 12s 246ms/step - loss: 0.2741 - sparse_categorical_accuracy: 0.9018 - val_loss: 0.2426 - val_sparse_categorical_accuracy: 0.9152\n",
            "Epoch 7/14\n",
            "49/49 [==============================] - 12s 252ms/step - loss: 0.2719 - sparse_categorical_accuracy: 0.9050 - val_loss: 0.2381 - val_sparse_categorical_accuracy: 0.9072\n",
            "Epoch 8/14\n",
            "49/49 [==============================] - 12s 250ms/step - loss: 0.2632 - sparse_categorical_accuracy: 0.9038 - val_loss: 0.2401 - val_sparse_categorical_accuracy: 0.9040\n",
            "Epoch 9/14\n",
            "49/49 [==============================] - 12s 248ms/step - loss: 0.2484 - sparse_categorical_accuracy: 0.9048 - val_loss: 0.2315 - val_sparse_categorical_accuracy: 0.9264\n",
            "Epoch 10/14\n",
            "49/49 [==============================] - 12s 246ms/step - loss: 0.2478 - sparse_categorical_accuracy: 0.9129 - val_loss: 0.2306 - val_sparse_categorical_accuracy: 0.9232\n",
            "Epoch 11/14\n",
            "49/49 [==============================] - 12s 252ms/step - loss: 0.2468 - sparse_categorical_accuracy: 0.9081 - val_loss: 0.2251 - val_sparse_categorical_accuracy: 0.9200\n",
            "Epoch 12/14\n",
            "49/49 [==============================] - 12s 245ms/step - loss: 0.2385 - sparse_categorical_accuracy: 0.9109 - val_loss: 0.2247 - val_sparse_categorical_accuracy: 0.9240\n",
            "Epoch 13/14\n",
            "49/49 [==============================] - 12s 249ms/step - loss: 0.2453 - sparse_categorical_accuracy: 0.9117 - val_loss: 0.2185 - val_sparse_categorical_accuracy: 0.9128\n",
            "Epoch 14/14\n",
            "49/49 [==============================] - 12s 246ms/step - loss: 0.2336 - sparse_categorical_accuracy: 0.9161 - val_loss: 0.1918 - val_sparse_categorical_accuracy: 0.9232\n"
          ],
          "name": "stdout"
        },
        {
          "output_type": "execute_result",
          "data": {
            "text/plain": [
              "<tensorflow.python.keras.callbacks.History at 0x7f71370ac710>"
            ]
          },
          "metadata": {
            "tags": []
          },
          "execution_count": 52
        }
      ]
    },
    {
      "cell_type": "code",
      "metadata": {
        "id": "kEEmN4ULyT5b",
        "colab_type": "code",
        "outputId": "1390aedf-41f0-4e17-b9ae-655933c900b6",
        "colab": {
          "base_uri": "https://localhost:8080/",
          "height": 34
        }
      },
      "source": [
        "test_loss, test_acc = model.evaluate_generator(test_batches)\n",
        "print('Test accuracy:', test_acc)"
      ],
      "execution_count": 0,
      "outputs": [
        {
          "output_type": "stream",
          "text": [
            "Test accuracy: 0.9063999999046326\n"
          ],
          "name": "stdout"
        }
      ]
    },
    {
      "cell_type": "code",
      "metadata": {
        "hidden": true,
        "id": "Ru-a99DzyT5g",
        "colab_type": "code",
        "colab": {}
      },
      "source": [
        "model.optimizer.lr = 0.0001"
      ],
      "execution_count": 0,
      "outputs": []
    },
    {
      "cell_type": "code",
      "metadata": {
        "hidden": true,
        "scrolled": true,
        "id": "Y7qnGwBIyT5j",
        "colab_type": "code",
        "outputId": "3c61e492-83be-4cbc-8467-ab893934d063",
        "colab": {
          "base_uri": "https://localhost:8080/",
          "height": 406
        }
      },
      "source": [
        "model.fit_generator(batches, epochs=10, validation_data=valid_batches)"
      ],
      "execution_count": 0,
      "outputs": [
        {
          "output_type": "stream",
          "text": [
            "Epoch 1/10\n",
            "49/49 [==============================] - 13s 262ms/step - loss: 0.2407 - sparse_categorical_accuracy: 0.9077 - val_loss: 0.1957 - val_sparse_categorical_accuracy: 0.9256\n",
            "Epoch 2/10\n",
            "49/49 [==============================] - 12s 252ms/step - loss: 0.2484 - sparse_categorical_accuracy: 0.9086 - val_loss: 0.2691 - val_sparse_categorical_accuracy: 0.9072\n",
            "Epoch 3/10\n",
            "49/49 [==============================] - 12s 251ms/step - loss: 0.2277 - sparse_categorical_accuracy: 0.9152 - val_loss: 0.2043 - val_sparse_categorical_accuracy: 0.9344\n",
            "Epoch 4/10\n",
            "49/49 [==============================] - 12s 245ms/step - loss: 0.2414 - sparse_categorical_accuracy: 0.9101 - val_loss: 0.1859 - val_sparse_categorical_accuracy: 0.9392\n",
            "Epoch 5/10\n",
            "49/49 [==============================] - 12s 252ms/step - loss: 0.2191 - sparse_categorical_accuracy: 0.9174 - val_loss: 0.2127 - val_sparse_categorical_accuracy: 0.9168\n",
            "Epoch 6/10\n",
            "49/49 [==============================] - 12s 247ms/step - loss: 0.2373 - sparse_categorical_accuracy: 0.9137 - val_loss: 0.2071 - val_sparse_categorical_accuracy: 0.9176\n",
            "Epoch 7/10\n",
            "49/49 [==============================] - 12s 252ms/step - loss: 0.2244 - sparse_categorical_accuracy: 0.9155 - val_loss: 0.1784 - val_sparse_categorical_accuracy: 0.9312\n",
            "Epoch 8/10\n",
            "49/49 [==============================] - 12s 253ms/step - loss: 0.2147 - sparse_categorical_accuracy: 0.9200 - val_loss: 0.1750 - val_sparse_categorical_accuracy: 0.9328\n",
            "Epoch 9/10\n",
            "49/49 [==============================] - 12s 250ms/step - loss: 0.2138 - sparse_categorical_accuracy: 0.9175 - val_loss: 0.1780 - val_sparse_categorical_accuracy: 0.9400\n",
            "Epoch 10/10\n",
            "49/49 [==============================] - 12s 249ms/step - loss: 0.2078 - sparse_categorical_accuracy: 0.9210 - val_loss: 0.1760 - val_sparse_categorical_accuracy: 0.9416\n"
          ],
          "name": "stdout"
        },
        {
          "output_type": "execute_result",
          "data": {
            "text/plain": [
              "<tensorflow.python.keras.callbacks.History at 0x7f712ee76e80>"
            ]
          },
          "metadata": {
            "tags": []
          },
          "execution_count": 55
        }
      ]
    },
    {
      "cell_type": "code",
      "metadata": {
        "id": "TfeFDM_5yT5l",
        "colab_type": "code",
        "outputId": "a03c10db-1ae4-4a43-afa9-13d1472c15b2",
        "colab": {
          "base_uri": "https://localhost:8080/",
          "height": 34
        }
      },
      "source": [
        "test_loss, test_acc = model.evaluate_generator(test_batches)\n",
        "print('Test accuracy:', test_acc)"
      ],
      "execution_count": 0,
      "outputs": [
        {
          "output_type": "stream",
          "text": [
            "Test accuracy: 0.9087999999046326\n"
          ],
          "name": "stdout"
        }
      ]
    },
    {
      "cell_type": "code",
      "metadata": {
        "id": "UmlydZaEArbt",
        "colab_type": "code",
        "colab": {}
      },
      "source": [
        "save_model(model, 'aug_model.h5')\n",
        "clear_session()"
      ],
      "execution_count": 0,
      "outputs": []
    },
    {
      "cell_type": "markdown",
      "metadata": {
        "heading_collapsed": true,
        "id": "t_euFo7jyT5p",
        "colab_type": "text"
      },
      "source": [
        "## Batchnorm + data augmentation"
      ]
    },
    {
      "cell_type": "markdown",
      "metadata": {
        "id": "bd5h-wPAyT5p",
        "colab_type": "text"
      },
      "source": [
        "**5. Fifth, adding batch normalization:**  \n",
        "Batch normalization (batchnorm) is a way to ensure that activations don't become too high or too low at any point in the model. Adjusting activations so they are of similar scales is called normalization. Normalization is very helpful for fast training - if some activations are very high, they will saturate the model and create very large gradients, causing training to fail; if very low, they will cause training to proceed very slowly. Furthermore, large or small activations in one layer will tend to result in even larger or smaller activations in later layers, since the activations get multiplied repeatedly across the layers.  \n",
        "\n",
        "Prior to the development of batchnorm in 2015, only the inputs to a model could be effectively normalized - by simply subtracting their mean and dividing by their standard deviation. However, weights in intermediate layers could easily become poorly scaled, due to problems in weight initialization, or a high learning rate combined with random fluctuations in weights.  \n",
        "\n",
        "Adding batchnorm to a model can result in:\n",
        "  - 10x or more improvements in training speed\n",
        "  - Because normalization greatly reduces the ability of a small number of outlying inputs to over-influence the training, it also tends to reduce overfitting."
      ]
    },
    {
      "cell_type": "code",
      "metadata": {
        "hidden": true,
        "id": "6A3znf_XyT5q",
        "colab_type": "code",
        "colab": {}
      },
      "source": [
        "def get_model_bn():\n",
        "    model = Sequential([\n",
        "        Conv2D(32, (3, 3), input_shape=(28, 28, 1)),\n",
        "        BatchNormalization(),\n",
        "        Activation('relu'),\n",
        "        Conv2D(32, (3, 3)),\n",
        "        BatchNormalization(),\n",
        "        Activation('relu'),\n",
        "        MaxPool2D(),\n",
        "        \n",
        "        Conv2D(64, (3, 3)),\n",
        "        BatchNormalization(),\n",
        "        Activation('relu'),\n",
        "        Conv2D(64, (3, 3)),\n",
        "        BatchNormalization(),\n",
        "        Activation('relu'),\n",
        "        MaxPool2D(),\n",
        "        \n",
        "        Flatten(),\n",
        "        Dense(256),\n",
        "        BatchNormalization(),\n",
        "        Activation('relu'),\n",
        "        Dense(10, activation='softmax')\n",
        "        ])\n",
        "    tpu_model = tf.contrib.tpu.keras_to_tpu_model(\n",
        "        model,\n",
        "        strategy=tf.contrib.tpu.TPUDistributionStrategy(\n",
        "            tf.contrib.cluster_resolver.TPUClusterResolver(tpu=TPU_WORKER))\n",
        "    )\n",
        "    tpu_model.compile(Adam(), loss='sparse_categorical_crossentropy', metrics=['sparse_categorical_accuracy'])\n",
        "    return tpu_model"
      ],
      "execution_count": 0,
      "outputs": []
    },
    {
      "cell_type": "code",
      "metadata": {
        "hidden": true,
        "id": "3-fvzZElyT5t",
        "colab_type": "code",
        "outputId": "28574466-7f58-4823-abfe-4053c6878de4",
        "colab": {
          "base_uri": "https://localhost:8080/",
          "height": 54
        }
      },
      "source": [
        "model = get_model_bn()"
      ],
      "execution_count": 0,
      "outputs": [
        {
          "output_type": "stream",
          "text": [
            "WARNING:tensorflow:tpu_model (from tensorflow.contrib.tpu.python.tpu.keras_support) is experimental and may change or be removed at any time, and without warning.\n"
          ],
          "name": "stdout"
        }
      ]
    },
    {
      "cell_type": "code",
      "metadata": {
        "hidden": true,
        "scrolled": true,
        "id": "RBhsHEx3yT5v",
        "colab_type": "code",
        "outputId": "4fcbf1d0-2721-494f-a9ae-880465d6e086",
        "colab": {
          "base_uri": "https://localhost:8080/",
          "height": 90
        }
      },
      "source": [
        "model.fit_generator(batches, epochs=1, validation_data=valid_batches)"
      ],
      "execution_count": 0,
      "outputs": [
        {
          "output_type": "stream",
          "text": [
            "Epoch 1/1\n",
            "49/49 [==============================] - 56s 1s/step - loss: 0.7121 - sparse_categorical_accuracy: 0.7412 - val_loss: 2.0036 - val_sparse_categorical_accuracy: 0.2856\n"
          ],
          "name": "stdout"
        },
        {
          "output_type": "execute_result",
          "data": {
            "text/plain": [
              "<tensorflow.python.keras.callbacks.History at 0x7f7136a623c8>"
            ]
          },
          "metadata": {
            "tags": []
          },
          "execution_count": 60
        }
      ]
    },
    {
      "cell_type": "code",
      "metadata": {
        "hidden": true,
        "id": "Tw7FfLPeyT5y",
        "colab_type": "code",
        "colab": {}
      },
      "source": [
        "model.optimizer.lr = 0.1"
      ],
      "execution_count": 0,
      "outputs": []
    },
    {
      "cell_type": "code",
      "metadata": {
        "hidden": true,
        "id": "yyCT0T-MyT50",
        "colab_type": "code",
        "outputId": "39b954ce-0861-4315-a534-a044d015a802",
        "colab": {
          "base_uri": "https://localhost:8080/",
          "height": 195
        }
      },
      "source": [
        "model.fit_generator(batches, epochs=4, validation_data=valid_batches)"
      ],
      "execution_count": 0,
      "outputs": [
        {
          "output_type": "stream",
          "text": [
            "Epoch 1/4\n",
            "49/49 [==============================] - 12s 255ms/step - loss: 0.4208 - sparse_categorical_accuracy: 0.8457 - val_loss: 2.1806 - val_sparse_categorical_accuracy: 0.3280\n",
            "Epoch 2/4\n",
            "49/49 [==============================] - 12s 252ms/step - loss: 0.3736 - sparse_categorical_accuracy: 0.8628 - val_loss: 1.9478 - val_sparse_categorical_accuracy: 0.3840\n",
            "Epoch 3/4\n",
            "49/49 [==============================] - 12s 247ms/step - loss: 0.3376 - sparse_categorical_accuracy: 0.8774 - val_loss: 1.6332 - val_sparse_categorical_accuracy: 0.4368\n",
            "Epoch 4/4\n",
            "49/49 [==============================] - 12s 253ms/step - loss: 0.3318 - sparse_categorical_accuracy: 0.8785 - val_loss: 1.0667 - val_sparse_categorical_accuracy: 0.6408\n"
          ],
          "name": "stdout"
        },
        {
          "output_type": "execute_result",
          "data": {
            "text/plain": [
              "<tensorflow.python.keras.callbacks.History at 0x7f7136960780>"
            ]
          },
          "metadata": {
            "tags": []
          },
          "execution_count": 62
        }
      ]
    },
    {
      "cell_type": "code",
      "metadata": {
        "hidden": true,
        "id": "N7q3aNDNyT53",
        "colab_type": "code",
        "colab": {}
      },
      "source": [
        "model.optimizer.lr = 0.01"
      ],
      "execution_count": 0,
      "outputs": []
    },
    {
      "cell_type": "code",
      "metadata": {
        "hidden": true,
        "id": "_Ifp7mN0yT55",
        "colab_type": "code",
        "outputId": "83c569c2-cca3-4a73-b8cc-55bad57cdb73",
        "colab": {
          "base_uri": "https://localhost:8080/",
          "height": 477
        }
      },
      "source": [
        "model.fit_generator(batches, epochs=12, validation_data=valid_batches)"
      ],
      "execution_count": 0,
      "outputs": [
        {
          "output_type": "stream",
          "text": [
            "Epoch 1/12\n",
            "49/49 [==============================] - 13s 265ms/step - loss: 0.3109 - sparse_categorical_accuracy: 0.8842 - val_loss: 0.6448 - val_sparse_categorical_accuracy: 0.7808\n",
            "Epoch 2/12\n",
            "49/49 [==============================] - 12s 248ms/step - loss: 0.2901 - sparse_categorical_accuracy: 0.8955 - val_loss: 0.4622 - val_sparse_categorical_accuracy: 0.8424\n",
            "Epoch 3/12\n",
            "49/49 [==============================] - 12s 252ms/step - loss: 0.2817 - sparse_categorical_accuracy: 0.8996 - val_loss: 0.3715 - val_sparse_categorical_accuracy: 0.8696\n",
            "Epoch 4/12\n",
            "49/49 [==============================] - 12s 254ms/step - loss: 0.2773 - sparse_categorical_accuracy: 0.8970 - val_loss: 0.2620 - val_sparse_categorical_accuracy: 0.9032\n",
            "Epoch 5/12\n",
            "49/49 [==============================] - 12s 251ms/step - loss: 0.2721 - sparse_categorical_accuracy: 0.8988 - val_loss: 0.2841 - val_sparse_categorical_accuracy: 0.8888\n",
            "Epoch 6/12\n",
            "49/49 [==============================] - 12s 252ms/step - loss: 0.2713 - sparse_categorical_accuracy: 0.9022 - val_loss: 0.4145 - val_sparse_categorical_accuracy: 0.8488\n",
            "Epoch 7/12\n",
            "49/49 [==============================] - 12s 251ms/step - loss: 0.2457 - sparse_categorical_accuracy: 0.9048 - val_loss: 0.2631 - val_sparse_categorical_accuracy: 0.9152\n",
            "Epoch 8/12\n",
            "49/49 [==============================] - 12s 253ms/step - loss: 0.2377 - sparse_categorical_accuracy: 0.9104 - val_loss: 0.2394 - val_sparse_categorical_accuracy: 0.9112\n",
            "Epoch 9/12\n",
            "49/49 [==============================] - 12s 247ms/step - loss: 0.2146 - sparse_categorical_accuracy: 0.9203 - val_loss: 0.2305 - val_sparse_categorical_accuracy: 0.9120\n",
            "Epoch 10/12\n",
            "49/49 [==============================] - 12s 252ms/step - loss: 0.2216 - sparse_categorical_accuracy: 0.9220 - val_loss: 0.2751 - val_sparse_categorical_accuracy: 0.8968\n",
            "Epoch 11/12\n",
            "49/49 [==============================] - 13s 255ms/step - loss: 0.2267 - sparse_categorical_accuracy: 0.9156 - val_loss: 0.2755 - val_sparse_categorical_accuracy: 0.8992\n",
            "Epoch 12/12\n",
            "49/49 [==============================] - 12s 251ms/step - loss: 0.2162 - sparse_categorical_accuracy: 0.9249 - val_loss: 0.2203 - val_sparse_categorical_accuracy: 0.9184\n"
          ],
          "name": "stdout"
        },
        {
          "output_type": "execute_result",
          "data": {
            "text/plain": [
              "<tensorflow.python.keras.callbacks.History at 0x7f712422bef0>"
            ]
          },
          "metadata": {
            "tags": []
          },
          "execution_count": 64
        }
      ]
    },
    {
      "cell_type": "code",
      "metadata": {
        "id": "_O9dIoQMyT59",
        "colab_type": "code",
        "outputId": "411ff1f6-1d22-45ee-8606-75f1b2d00823",
        "colab": {
          "base_uri": "https://localhost:8080/",
          "height": 34
        }
      },
      "source": [
        "test_loss, test_acc = model.evaluate_generator(test_batches)\n",
        "print('Test accuracy:', test_acc)"
      ],
      "execution_count": 0,
      "outputs": [
        {
          "output_type": "stream",
          "text": [
            "Test accuracy: 0.906400000667572\n"
          ],
          "name": "stdout"
        }
      ]
    },
    {
      "cell_type": "code",
      "metadata": {
        "hidden": true,
        "id": "78YEgg_IyT6A",
        "colab_type": "code",
        "colab": {}
      },
      "source": [
        "model.optimizer.lr = 0.001"
      ],
      "execution_count": 0,
      "outputs": []
    },
    {
      "cell_type": "code",
      "metadata": {
        "hidden": true,
        "scrolled": true,
        "id": "DYoM9JwPyT6D",
        "colab_type": "code",
        "outputId": "a95508af-270c-4204-ccd9-e924ed25a362",
        "colab": {
          "base_uri": "https://localhost:8080/",
          "height": 477
        }
      },
      "source": [
        "model.fit_generator(batches, epochs=12, validation_data=valid_batches)"
      ],
      "execution_count": 0,
      "outputs": [
        {
          "output_type": "stream",
          "text": [
            "Epoch 1/12\n",
            "49/49 [==============================] - 13s 259ms/step - loss: 0.2090 - sparse_categorical_accuracy: 0.9213 - val_loss: 0.2600 - val_sparse_categorical_accuracy: 0.9056\n",
            "Epoch 2/12\n",
            "49/49 [==============================] - 12s 255ms/step - loss: 0.2185 - sparse_categorical_accuracy: 0.9177 - val_loss: 0.2842 - val_sparse_categorical_accuracy: 0.8952\n",
            "Epoch 3/12\n",
            "49/49 [==============================] - 12s 255ms/step - loss: 0.2080 - sparse_categorical_accuracy: 0.9221 - val_loss: 0.2479 - val_sparse_categorical_accuracy: 0.9144\n",
            "Epoch 4/12\n",
            "49/49 [==============================] - 12s 252ms/step - loss: 0.2017 - sparse_categorical_accuracy: 0.9248 - val_loss: 0.2902 - val_sparse_categorical_accuracy: 0.9032\n",
            "Epoch 5/12\n",
            "49/49 [==============================] - 12s 251ms/step - loss: 0.2052 - sparse_categorical_accuracy: 0.9252 - val_loss: 0.3203 - val_sparse_categorical_accuracy: 0.8912\n",
            "Epoch 6/12\n",
            "49/49 [==============================] - 12s 251ms/step - loss: 0.1920 - sparse_categorical_accuracy: 0.9260 - val_loss: 0.2787 - val_sparse_categorical_accuracy: 0.9152\n",
            "Epoch 7/12\n",
            "49/49 [==============================] - 12s 250ms/step - loss: 0.1923 - sparse_categorical_accuracy: 0.9284 - val_loss: 0.2958 - val_sparse_categorical_accuracy: 0.9024\n",
            "Epoch 8/12\n",
            "49/49 [==============================] - 12s 252ms/step - loss: 0.1815 - sparse_categorical_accuracy: 0.9313 - val_loss: 0.2617 - val_sparse_categorical_accuracy: 0.9160\n",
            "Epoch 9/12\n",
            "49/49 [==============================] - 12s 249ms/step - loss: 0.1854 - sparse_categorical_accuracy: 0.9315 - val_loss: 0.2499 - val_sparse_categorical_accuracy: 0.9072\n",
            "Epoch 10/12\n",
            "49/49 [==============================] - 12s 248ms/step - loss: 0.1921 - sparse_categorical_accuracy: 0.9305 - val_loss: 0.2028 - val_sparse_categorical_accuracy: 0.9240\n",
            "Epoch 11/12\n",
            "49/49 [==============================] - 12s 252ms/step - loss: 0.1903 - sparse_categorical_accuracy: 0.9294 - val_loss: 0.2574 - val_sparse_categorical_accuracy: 0.9104\n",
            "Epoch 12/12\n",
            "49/49 [==============================] - 12s 246ms/step - loss: 0.1725 - sparse_categorical_accuracy: 0.9378 - val_loss: 0.2398 - val_sparse_categorical_accuracy: 0.9120\n"
          ],
          "name": "stdout"
        },
        {
          "output_type": "execute_result",
          "data": {
            "text/plain": [
              "<tensorflow.python.keras.callbacks.History at 0x7f7136960550>"
            ]
          },
          "metadata": {
            "tags": []
          },
          "execution_count": 67
        }
      ]
    },
    {
      "cell_type": "code",
      "metadata": {
        "id": "RHMVElT0yT6H",
        "colab_type": "code",
        "outputId": "c9fc0016-4b52-4da4-9668-81d8125f824e",
        "colab": {
          "base_uri": "https://localhost:8080/",
          "height": 34
        }
      },
      "source": [
        "test_loss, test_acc = model.evaluate_generator(test_batches)\n",
        "print('Test accuracy:', test_acc)"
      ],
      "execution_count": 0,
      "outputs": [
        {
          "output_type": "stream",
          "text": [
            "Test accuracy: 0.9047999991416931\n"
          ],
          "name": "stdout"
        }
      ]
    },
    {
      "cell_type": "code",
      "metadata": {
        "id": "zf22RdCPAyaE",
        "colab_type": "code",
        "colab": {}
      },
      "source": [
        "save_model(model, 'batchnorm_model.h5')\n",
        "clear_session()"
      ],
      "execution_count": 0,
      "outputs": []
    },
    {
      "cell_type": "markdown",
      "metadata": {
        "heading_collapsed": true,
        "id": "9eyVfaHNyT6L",
        "colab_type": "text"
      },
      "source": [
        "## Batchnorm + dropout + data augmentation"
      ]
    },
    {
      "cell_type": "markdown",
      "metadata": {
        "id": "qCBrTgIuyT6L",
        "colab_type": "text"
      },
      "source": [
        "**6. Sixth, adding dropout:**  \n",
        "Dropout with a value of 0.5 means randomly throwing away half of the activations in a layer has an interesting effect. An important thing to note is for each mini-batch, we throw away a different random half of activations in that layer. It forces it to not overfit. In other words, when a particular activation that learned just that exact dog or exact cat gets dropped out, the model has to try and find a representation that continues to work even as random half of the activations get thrown away every time.\n",
        "This has been absolutely critical in making modern deep learning work and just about solve the problem of generalization."
      ]
    },
    {
      "cell_type": "code",
      "metadata": {
        "hidden": true,
        "id": "oWSMD4M-yT6M",
        "colab_type": "code",
        "colab": {}
      },
      "source": [
        "def get_model_bn_do():\n",
        "    model = Sequential([\n",
        "        Conv2D(32, (3, 3), input_shape=(28, 28, 1)),\n",
        "        BatchNormalization(),\n",
        "        Activation('relu'),\n",
        "        Conv2D(32, (3, 3)),\n",
        "        BatchNormalization(),\n",
        "        Activation('relu'),\n",
        "        MaxPool2D(),\n",
        "        \n",
        "        Conv2D(64, (3, 3)),\n",
        "        BatchNormalization(),\n",
        "        Activation('relu'),\n",
        "        Conv2D(64, (3, 3)),\n",
        "        BatchNormalization(),\n",
        "        Activation('relu'),\n",
        "        MaxPool2D(),\n",
        "        \n",
        "        Flatten(),\n",
        "        Dense(256),\n",
        "        BatchNormalization(),\n",
        "        Activation('relu'),\n",
        "        Dropout(0.5),\n",
        "        Dense(10, activation='softmax')\n",
        "        ])\n",
        "    \n",
        "    tpu_model = tf.contrib.tpu.keras_to_tpu_model(\n",
        "        model,\n",
        "        strategy=tf.contrib.tpu.TPUDistributionStrategy(\n",
        "            tf.contrib.cluster_resolver.TPUClusterResolver(tpu=TPU_WORKER))\n",
        "    )\n",
        "    tpu_model.compile(Adam(), loss='sparse_categorical_crossentropy', metrics=['sparse_categorical_accuracy'])\n",
        "    return tpu_model"
      ],
      "execution_count": 0,
      "outputs": []
    },
    {
      "cell_type": "code",
      "metadata": {
        "hidden": true,
        "id": "nsXqEo91yT6O",
        "colab_type": "code",
        "outputId": "531259bc-0b42-41e8-a22d-c4d19075b0ba",
        "colab": {
          "base_uri": "https://localhost:8080/",
          "height": 54
        }
      },
      "source": [
        "model = get_model_bn_do()"
      ],
      "execution_count": 0,
      "outputs": [
        {
          "output_type": "stream",
          "text": [
            "WARNING:tensorflow:tpu_model (from tensorflow.contrib.tpu.python.tpu.keras_support) is experimental and may change or be removed at any time, and without warning.\n"
          ],
          "name": "stdout"
        }
      ]
    },
    {
      "cell_type": "code",
      "metadata": {
        "id": "0yCCmjvOyT6R",
        "colab_type": "code",
        "outputId": "3b39a736-eb21-48ed-8cfa-fcfbfbbb3090",
        "colab": {
          "base_uri": "https://localhost:8080/",
          "height": 879
        }
      },
      "source": [
        "model.summary()"
      ],
      "execution_count": 0,
      "outputs": [
        {
          "output_type": "stream",
          "text": [
            "_________________________________________________________________\n",
            "Layer (type)                 Output Shape              Param #   \n",
            "=================================================================\n",
            "conv2d_input (InputLayer)    (None, 28, 28, 1)         0         \n",
            "_________________________________________________________________\n",
            "conv2d (Conv2D)              (None, 26, 26, 32)        320       \n",
            "_________________________________________________________________\n",
            "batch_normalization (BatchNo (None, 26, 26, 32)        128       \n",
            "_________________________________________________________________\n",
            "activation (Activation)      (None, 26, 26, 32)        0         \n",
            "_________________________________________________________________\n",
            "conv2d_1 (Conv2D)            (None, 24, 24, 32)        9248      \n",
            "_________________________________________________________________\n",
            "batch_normalization_1 (Batch (None, 24, 24, 32)        128       \n",
            "_________________________________________________________________\n",
            "activation_1 (Activation)    (None, 24, 24, 32)        0         \n",
            "_________________________________________________________________\n",
            "max_pooling2d (MaxPooling2D) (None, 12, 12, 32)        0         \n",
            "_________________________________________________________________\n",
            "conv2d_2 (Conv2D)            (None, 10, 10, 64)        18496     \n",
            "_________________________________________________________________\n",
            "batch_normalization_2 (Batch (None, 10, 10, 64)        256       \n",
            "_________________________________________________________________\n",
            "activation_2 (Activation)    (None, 10, 10, 64)        0         \n",
            "_________________________________________________________________\n",
            "conv2d_3 (Conv2D)            (None, 8, 8, 64)          36928     \n",
            "_________________________________________________________________\n",
            "batch_normalization_3 (Batch (None, 8, 8, 64)          256       \n",
            "_________________________________________________________________\n",
            "activation_3 (Activation)    (None, 8, 8, 64)          0         \n",
            "_________________________________________________________________\n",
            "max_pooling2d_1 (MaxPooling2 (None, 4, 4, 64)          0         \n",
            "_________________________________________________________________\n",
            "flatten (Flatten)            (None, 1024)              0         \n",
            "_________________________________________________________________\n",
            "dense (Dense)                (None, 256)               262400    \n",
            "_________________________________________________________________\n",
            "batch_normalization_4 (Batch (None, 256)               1024      \n",
            "_________________________________________________________________\n",
            "activation_4 (Activation)    (None, 256)               0         \n",
            "_________________________________________________________________\n",
            "dropout (Dropout)            (None, 256)               0         \n",
            "_________________________________________________________________\n",
            "dense_1 (Dense)              (None, 10)                2570      \n",
            "=================================================================\n",
            "Total params: 331,754\n",
            "Trainable params: 330,858\n",
            "Non-trainable params: 896\n",
            "_________________________________________________________________\n"
          ],
          "name": "stdout"
        }
      ]
    },
    {
      "cell_type": "code",
      "metadata": {
        "hidden": true,
        "scrolled": true,
        "id": "C0waPadSyT6U",
        "colab_type": "code",
        "outputId": "1f901733-5d29-4543-fa86-aefaaea95b2a",
        "colab": {
          "base_uri": "https://localhost:8080/",
          "height": 90
        }
      },
      "source": [
        "model.fit_generator(batches, epochs=1, validation_data=valid_batches)"
      ],
      "execution_count": 0,
      "outputs": [
        {
          "output_type": "stream",
          "text": [
            "Epoch 1/1\n",
            "49/49 [==============================] - 76s 2s/step - loss: 0.8064 - sparse_categorical_accuracy: 0.7131 - val_loss: 1.6017 - val_sparse_categorical_accuracy: 0.5704\n"
          ],
          "name": "stdout"
        },
        {
          "output_type": "execute_result",
          "data": {
            "text/plain": [
              "<tensorflow.python.keras.callbacks.History at 0x7f712e70b208>"
            ]
          },
          "metadata": {
            "tags": []
          },
          "execution_count": 73
        }
      ]
    },
    {
      "cell_type": "code",
      "metadata": {
        "hidden": true,
        "id": "sd8DpR18yT6Y",
        "colab_type": "code",
        "colab": {}
      },
      "source": [
        "model.optimizer.lr = 0.1"
      ],
      "execution_count": 0,
      "outputs": []
    },
    {
      "cell_type": "code",
      "metadata": {
        "hidden": true,
        "scrolled": false,
        "id": "926BkDopyT6Z",
        "colab_type": "code",
        "outputId": "c0616b23-e411-4874-c9f7-5ee6d639e87e",
        "colab": {
          "base_uri": "https://localhost:8080/",
          "height": 195
        }
      },
      "source": [
        "model.fit_generator(batches, epochs=4, validation_data=valid_batches)"
      ],
      "execution_count": 0,
      "outputs": [
        {
          "output_type": "stream",
          "text": [
            "Epoch 1/4\n",
            "49/49 [==============================] - 13s 260ms/step - loss: 0.5172 - sparse_categorical_accuracy: 0.8111 - val_loss: 1.5151 - val_sparse_categorical_accuracy: 0.5424\n",
            "Epoch 2/4\n",
            "49/49 [==============================] - 12s 251ms/step - loss: 0.4380 - sparse_categorical_accuracy: 0.8366 - val_loss: 1.4677 - val_sparse_categorical_accuracy: 0.5584\n",
            "Epoch 3/4\n",
            "49/49 [==============================] - 12s 248ms/step - loss: 0.3939 - sparse_categorical_accuracy: 0.8545 - val_loss: 1.1327 - val_sparse_categorical_accuracy: 0.6504\n",
            "Epoch 4/4\n",
            "49/49 [==============================] - 13s 256ms/step - loss: 0.3847 - sparse_categorical_accuracy: 0.8598 - val_loss: 0.7756 - val_sparse_categorical_accuracy: 0.7424\n"
          ],
          "name": "stdout"
        },
        {
          "output_type": "execute_result",
          "data": {
            "text/plain": [
              "<tensorflow.python.keras.callbacks.History at 0x7f712e70b898>"
            ]
          },
          "metadata": {
            "tags": []
          },
          "execution_count": 75
        }
      ]
    },
    {
      "cell_type": "code",
      "metadata": {
        "hidden": true,
        "id": "9hXLnr4byT6b",
        "colab_type": "code",
        "colab": {}
      },
      "source": [
        "model.optimizer.lr = 0.01"
      ],
      "execution_count": 0,
      "outputs": []
    },
    {
      "cell_type": "code",
      "metadata": {
        "hidden": true,
        "scrolled": true,
        "id": "L1CIKd47yT6e",
        "colab_type": "code",
        "outputId": "cbeb1e35-baf8-4f96-bac7-03b0f96d1332",
        "colab": {
          "base_uri": "https://localhost:8080/",
          "height": 477
        }
      },
      "source": [
        "model.fit_generator(batches, epochs=12, validation_data=valid_batches)"
      ],
      "execution_count": 0,
      "outputs": [
        {
          "output_type": "stream",
          "text": [
            "Epoch 1/12\n",
            "49/49 [==============================] - 13s 262ms/step - loss: 0.3526 - sparse_categorical_accuracy: 0.8705 - val_loss: 0.8198 - val_sparse_categorical_accuracy: 0.7168\n",
            "Epoch 2/12\n",
            "49/49 [==============================] - 12s 247ms/step - loss: 0.3590 - sparse_categorical_accuracy: 0.8655 - val_loss: 0.4784 - val_sparse_categorical_accuracy: 0.8200\n",
            "Epoch 3/12\n",
            "49/49 [==============================] - 12s 248ms/step - loss: 0.3222 - sparse_categorical_accuracy: 0.8794 - val_loss: 0.4124 - val_sparse_categorical_accuracy: 0.8656\n",
            "Epoch 4/12\n",
            "49/49 [==============================] - 12s 248ms/step - loss: 0.3223 - sparse_categorical_accuracy: 0.8822 - val_loss: 0.3542 - val_sparse_categorical_accuracy: 0.8808\n",
            "Epoch 5/12\n",
            "49/49 [==============================] - 12s 249ms/step - loss: 0.3017 - sparse_categorical_accuracy: 0.8876 - val_loss: 0.3090 - val_sparse_categorical_accuracy: 0.8872\n",
            "Epoch 6/12\n",
            "49/49 [==============================] - 12s 250ms/step - loss: 0.2929 - sparse_categorical_accuracy: 0.8956 - val_loss: 0.2668 - val_sparse_categorical_accuracy: 0.9032\n",
            "Epoch 7/12\n",
            "49/49 [==============================] - 12s 247ms/step - loss: 0.2884 - sparse_categorical_accuracy: 0.8936 - val_loss: 0.2860 - val_sparse_categorical_accuracy: 0.9024\n",
            "Epoch 8/12\n",
            "49/49 [==============================] - 12s 253ms/step - loss: 0.2710 - sparse_categorical_accuracy: 0.8992 - val_loss: 0.2996 - val_sparse_categorical_accuracy: 0.8880\n",
            "Epoch 9/12\n",
            "49/49 [==============================] - 12s 244ms/step - loss: 0.2910 - sparse_categorical_accuracy: 0.8926 - val_loss: 0.2700 - val_sparse_categorical_accuracy: 0.9000\n",
            "Epoch 10/12\n",
            "49/49 [==============================] - 12s 250ms/step - loss: 0.2713 - sparse_categorical_accuracy: 0.9025 - val_loss: 0.2208 - val_sparse_categorical_accuracy: 0.9240\n",
            "Epoch 11/12\n",
            "49/49 [==============================] - 12s 249ms/step - loss: 0.2564 - sparse_categorical_accuracy: 0.9068 - val_loss: 0.2286 - val_sparse_categorical_accuracy: 0.9168\n",
            "Epoch 12/12\n",
            "49/49 [==============================] - 12s 245ms/step - loss: 0.2570 - sparse_categorical_accuracy: 0.9064 - val_loss: 0.2322 - val_sparse_categorical_accuracy: 0.9184\n"
          ],
          "name": "stdout"
        },
        {
          "output_type": "execute_result",
          "data": {
            "text/plain": [
              "<tensorflow.python.keras.callbacks.History at 0x7f712e70b390>"
            ]
          },
          "metadata": {
            "tags": []
          },
          "execution_count": 77
        }
      ]
    },
    {
      "cell_type": "code",
      "metadata": {
        "id": "DYxnx-fOyT6g",
        "colab_type": "code",
        "outputId": "b95553d2-54ee-4a9f-db4b-cdf9faabc459",
        "colab": {
          "base_uri": "https://localhost:8080/",
          "height": 34
        }
      },
      "source": [
        "test_loss, test_acc = model.evaluate_generator(test_batches)\n",
        "print('Test accuracy:', test_acc)"
      ],
      "execution_count": 0,
      "outputs": [
        {
          "output_type": "stream",
          "text": [
            "Test accuracy: 0.9119999983787537\n"
          ],
          "name": "stdout"
        }
      ]
    },
    {
      "cell_type": "code",
      "metadata": {
        "hidden": true,
        "id": "lXc5_CXSyT6l",
        "colab_type": "code",
        "colab": {}
      },
      "source": [
        "model.optimizer.lr = 0.001"
      ],
      "execution_count": 0,
      "outputs": []
    },
    {
      "cell_type": "code",
      "metadata": {
        "hidden": true,
        "scrolled": false,
        "id": "k2AUfPxsyT6o",
        "colab_type": "code",
        "outputId": "71436da9-c871-4d66-d5a3-55c3f7687949",
        "colab": {
          "base_uri": "https://localhost:8080/",
          "height": 90
        }
      },
      "source": [
        "model.fit_generator(batches, epochs=1, validation_data=valid_batches)"
      ],
      "execution_count": 0,
      "outputs": [
        {
          "output_type": "stream",
          "text": [
            "Epoch 1/1\n",
            "49/49 [==============================] - 13s 258ms/step - loss: 0.2598 - sparse_categorical_accuracy: 0.9067 - val_loss: 0.2136 - val_sparse_categorical_accuracy: 0.9240\n"
          ],
          "name": "stdout"
        },
        {
          "output_type": "execute_result",
          "data": {
            "text/plain": [
              "<tensorflow.python.keras.callbacks.History at 0x7f712e6796a0>"
            ]
          },
          "metadata": {
            "tags": []
          },
          "execution_count": 80
        }
      ]
    },
    {
      "cell_type": "code",
      "metadata": {
        "scrolled": true,
        "id": "Lr77oi6DyT6q",
        "colab_type": "code",
        "outputId": "55877ee9-cdae-40a5-94eb-1b203699869c",
        "colab": {
          "base_uri": "https://localhost:8080/",
          "height": 34
        }
      },
      "source": [
        "test_loss, test_acc = model.evaluate_generator(test_batches)\n",
        "print('Test accuracy:', test_acc)"
      ],
      "execution_count": 0,
      "outputs": [
        {
          "output_type": "stream",
          "text": [
            "Test accuracy: 0.9128000002861023\n"
          ],
          "name": "stdout"
        }
      ]
    },
    {
      "cell_type": "code",
      "metadata": {
        "id": "pKiH2CO-Azj5",
        "colab_type": "code",
        "colab": {}
      },
      "source": [
        "save_model(model, 'dropout_model.h5')\n",
        "clear_session()"
      ],
      "execution_count": 0,
      "outputs": []
    },
    {
      "cell_type": "markdown",
      "metadata": {
        "heading_collapsed": true,
        "colab_type": "text",
        "id": "-x8QW3obZOVI"
      },
      "source": [
        "## Octave Convolution + (6)"
      ]
    },
    {
      "cell_type": "markdown",
      "metadata": {
        "colab_type": "text",
        "id": "-2OHPLZ7ZOVL"
      },
      "source": [
        "**7. Replace normal vanilla convolution with Octave convolution:**  \n",
        "Abstract: \"In natural images, information is conveyed at different frequencies where higher frequencies are usually encoded with fine details and lower frequencies are usually encoded with global structures. Similarly, the output feature maps of a convolution layer can also be seen as a mixture of information at different frequencies. In this work, we propose to factorize the mixed feature maps by their frequencies and design a novel Octave Convolution (OctConv) operation to store and process feature maps that vary spatially \"slower\" at a lower spatial resolution reducing both memory and computation cost. Unlike existing multi-scale meth-ods, OctConv is formulated as a single, generic, plug-and-play convolutional unit that can be used as a direct replacement of (vanilla) convolutions without any adjustments in the network architecture. It is also orthogonal and complementary to methods that suggest better topologies or reduce channel-wise redundancy like group or depth-wise convolutions. We experimentally show that by simply replacing con-volutions with OctConv, we can consistently boost accuracy for both image and video recognition tasks, while reducing memory and computational cost. An OctConv-equipped ResNet-152 can achieve 82.9% top-1 classification accuracy on ImageNet with merely 22.2 GFLOPs.\"\n",
        "https://arxiv.org/abs/1904.05049"
      ]
    },
    {
      "cell_type": "markdown",
      "metadata": {
        "id": "cwq41r-8T1uf",
        "colab_type": "text"
      },
      "source": [
        "clear_session()\n",
        "from conv_2d import OctaveConv2D\n",
        "\n",
        "def get_model_bn_do_oct():\n",
        "    inputs = Input(shape=(28, 28, 1))\n",
        "    \n",
        "    high, low = OctaveConv2D(filters=32, kernel_size=3)(inputs)\n",
        "    high, low = BatchNormalization()(high), BatchNormalization()(low)\n",
        "    high, low = Activation('relu')(high), Activation('relu')(low)\n",
        "    high, low = OctaveConv2D(filters=32, kernel_size=3)([high, low])\n",
        "    high, low = BatchNormalization()(high), BatchNormalization()(low)\n",
        "    high, low = Activation('relu')(high), Activation('relu')(low)\n",
        "    high, low = MaxPool2D()(high), MaxPool2D()(low)\n",
        "    \n",
        "    high, low = OctaveConv2D(filters=64, kernel_size=3)([high, low])\n",
        "    high, low = BatchNormalization()(high), BatchNormalization()(low)\n",
        "    high, low = Activation('relu')(high), Activation('relu')(low)\n",
        "    conv = OctaveConv2D(filters=64, kernel_size=3, ratio_out=0.0)([high, low])\n",
        "    conv = BatchNormalization()(conv)\n",
        "    conv = Activation('relu')(conv)\n",
        "    conv = MaxPool2D()(conv)\n",
        "    \n",
        "    flatten = Flatten()(conv)\n",
        "    dense = Dense(256)(flatten)\n",
        "    dense = BatchNormalization()(dense)\n",
        "    dense = Activation('relu')(dense)\n",
        "    dense = Dropout(0.5)(dense)\n",
        "    outputs = Dense(units=10, activation='softmax')(dense)\n",
        "\n",
        "    model = Model(inputs=inputs, outputs=outputs)\n",
        "    \n",
        "    tpu_model = tf.contrib.tpu.keras_to_tpu_model(\n",
        "        model,\n",
        "        strategy=tf.contrib.tpu.TPUDistributionStrategy(\n",
        "            tf.contrib.cluster_resolver.TPUClusterResolver(tpu=TPU_WORKER))\n",
        "    )\n",
        "    tpu_model.compile(Adam(), loss='sparse_categorical_crossentropy', metrics=['sparse_categorical_accuracy'])\n",
        "    return tpu_model"
      ]
    },
    {
      "cell_type": "markdown",
      "metadata": {
        "id": "tU8flvGEZ-or",
        "colab_type": "text"
      },
      "source": [
        "model = get_model_bn_do_oct()"
      ]
    },
    {
      "cell_type": "markdown",
      "metadata": {
        "id": "g7-SAMNtZ-ov",
        "colab_type": "text"
      },
      "source": [
        "model.summary()"
      ]
    },
    {
      "cell_type": "markdown",
      "metadata": {
        "id": "UBBEfLDfZ-oy",
        "colab_type": "text"
      },
      "source": [
        "model.fit_generator(batches, epochs=1, validation_data=valid_batches)"
      ]
    },
    {
      "cell_type": "markdown",
      "metadata": {
        "id": "Km0uBv95Z-o0",
        "colab_type": "text"
      },
      "source": [
        "model.optimizer.lr = 0.1"
      ]
    },
    {
      "cell_type": "markdown",
      "metadata": {
        "id": "kIreXUeOZ-o1",
        "colab_type": "text"
      },
      "source": [
        "model.fit_generator(batches, epochs=4, validation_data=valid_batches)"
      ]
    },
    {
      "cell_type": "markdown",
      "metadata": {
        "id": "Vp-GksBjZ-o3",
        "colab_type": "text"
      },
      "source": [
        "model.optimizer.lr = 0.01"
      ]
    },
    {
      "cell_type": "markdown",
      "metadata": {
        "id": "mNYZRZE-Z-o5",
        "colab_type": "text"
      },
      "source": [
        "model.fit_generator(batches, epochs=12, validation_data=valid_batches)"
      ]
    },
    {
      "cell_type": "markdown",
      "metadata": {
        "id": "ttjSLm_gZ-o7",
        "colab_type": "text"
      },
      "source": [
        "test_loss, test_acc = model.evaluate_generator(test_batches)\n",
        "print('Test accuracy:', test_acc)"
      ]
    },
    {
      "cell_type": "markdown",
      "metadata": {
        "id": "mABSyjSsZ-o9",
        "colab_type": "text"
      },
      "source": [
        "model.optimizer.lr = 0.001"
      ]
    },
    {
      "cell_type": "markdown",
      "metadata": {
        "id": "HGnxEuKtZ-o-",
        "colab_type": "text"
      },
      "source": [
        "model.fit_generator(batches, epochs=1, validation_data=valid_batches)"
      ]
    },
    {
      "cell_type": "markdown",
      "metadata": {
        "id": "938M46V2Z-pB",
        "colab_type": "text"
      },
      "source": [
        "test_loss, test_acc = model.evaluate_generator(test_batches)\n",
        "print('Test accuracy:', test_acc)"
      ]
    },
    {
      "cell_type": "markdown",
      "metadata": {
        "id": "G6WnEL4RZ-pE",
        "colab_type": "text"
      },
      "source": [
        "save_model(model, 'octcnn_model.h5')\n",
        "clear_session()"
      ]
    },
    {
      "cell_type": "markdown",
      "metadata": {
        "id": "JzG_H6dnyT6r",
        "colab_type": "text"
      },
      "source": [
        "## Ensembling"
      ]
    },
    {
      "cell_type": "markdown",
      "metadata": {
        "id": "k1_qxOpSyT6s",
        "colab_type": "text"
      },
      "source": [
        "**7. Seventh, using ensembling technique:**  \n",
        "Finally, as in many other problems, ensemble learning is the technique to achieve state-of-the-art results. I would apply this technique to our problems by training sequentially the model (batchnorm + dropout + data augmentation) with different learning rates and aggregate the results of 6 models of this architecture."
      ]
    },
    {
      "cell_type": "code",
      "metadata": {
        "id": "oWD5DDkLyT6t",
        "colab_type": "code",
        "colab": {}
      },
      "source": [
        "def fit_model(i):\n",
        "    model = get_model_bn_do()\n",
        "    model.fit_generator(batches, epochs=1, validation_data=valid_batches)\n",
        "    model.optimizer.lr = 0.1\n",
        "    model.fit_generator(batches, epochs=4, validation_data=valid_batches)\n",
        "    model.optimizer.lr = 0.01\n",
        "    model.fit_generator(batches, epochs=12, validation_data=valid_batches)\n",
        "    model.optimizer.lr = 0.001\n",
        "    model.fit_generator(batches, epochs=18, validation_data=valid_batches)\n",
        "    save_model(model, 'cnn_model' + str(i) + '.h5', del_model=False)\n",
        "    return model"
      ],
      "execution_count": 0,
      "outputs": []
    },
    {
      "cell_type": "code",
      "metadata": {
        "id": "YtVNrtRCyT6u",
        "colab_type": "code",
        "outputId": "7f032475-fe62-40b8-c010-ff900ff90d7c",
        "colab": {
          "base_uri": "https://localhost:8080/",
          "height": 1000
        }
      },
      "source": [
        "models = [fit_model(i) for i in range(6)]"
      ],
      "execution_count": 0,
      "outputs": [
        {
          "output_type": "stream",
          "text": [
            "WARNING:tensorflow:tpu_model (from tensorflow.contrib.tpu.python.tpu.keras_support) is experimental and may change or be removed at any time, and without warning.\n",
            "Epoch 1/1\n",
            "49/49 [==============================] - 95s 2s/step - loss: 0.8156 - sparse_categorical_accuracy: 0.7048 - val_loss: 1.6990 - val_sparse_categorical_accuracy: 0.4720\n",
            "Epoch 1/4\n",
            "49/49 [==============================] - 13s 259ms/step - loss: 0.5219 - sparse_categorical_accuracy: 0.8034 - val_loss: 1.9606 - val_sparse_categorical_accuracy: 0.3456\n",
            "Epoch 2/4\n",
            "49/49 [==============================] - 12s 252ms/step - loss: 0.4437 - sparse_categorical_accuracy: 0.8404 - val_loss: 1.6789 - val_sparse_categorical_accuracy: 0.4880\n",
            "Epoch 3/4\n",
            "49/49 [==============================] - 12s 247ms/step - loss: 0.3873 - sparse_categorical_accuracy: 0.8590 - val_loss: 1.2792 - val_sparse_categorical_accuracy: 0.5992\n",
            "Epoch 4/4\n",
            "49/49 [==============================] - 12s 249ms/step - loss: 0.3848 - sparse_categorical_accuracy: 0.8601 - val_loss: 0.9449 - val_sparse_categorical_accuracy: 0.6840\n",
            "Epoch 1/12\n",
            "49/49 [==============================] - 13s 258ms/step - loss: 0.3684 - sparse_categorical_accuracy: 0.8651 - val_loss: 0.5315 - val_sparse_categorical_accuracy: 0.8184\n",
            "Epoch 2/12\n",
            "49/49 [==============================] - 12s 255ms/step - loss: 0.3402 - sparse_categorical_accuracy: 0.8730 - val_loss: 0.4669 - val_sparse_categorical_accuracy: 0.8384\n",
            "Epoch 3/12\n",
            "49/49 [==============================] - 12s 251ms/step - loss: 0.3350 - sparse_categorical_accuracy: 0.8786 - val_loss: 0.3036 - val_sparse_categorical_accuracy: 0.8840\n",
            "Epoch 4/12\n",
            "49/49 [==============================] - 12s 251ms/step - loss: 0.3232 - sparse_categorical_accuracy: 0.8795 - val_loss: 0.2682 - val_sparse_categorical_accuracy: 0.9016\n",
            "Epoch 5/12\n",
            "49/49 [==============================] - 13s 257ms/step - loss: 0.3114 - sparse_categorical_accuracy: 0.8835 - val_loss: 0.2605 - val_sparse_categorical_accuracy: 0.8952\n",
            "Epoch 6/12\n",
            "49/49 [==============================] - 12s 252ms/step - loss: 0.2918 - sparse_categorical_accuracy: 0.8939 - val_loss: 0.2663 - val_sparse_categorical_accuracy: 0.8952\n",
            "Epoch 7/12\n",
            "49/49 [==============================] - 12s 250ms/step - loss: 0.2983 - sparse_categorical_accuracy: 0.8914 - val_loss: 0.2668 - val_sparse_categorical_accuracy: 0.8944\n",
            "Epoch 8/12\n",
            "49/49 [==============================] - 13s 256ms/step - loss: 0.2926 - sparse_categorical_accuracy: 0.8903 - val_loss: 0.2624 - val_sparse_categorical_accuracy: 0.9056\n",
            "Epoch 9/12\n",
            "49/49 [==============================] - 12s 249ms/step - loss: 0.2769 - sparse_categorical_accuracy: 0.8971 - val_loss: 0.2423 - val_sparse_categorical_accuracy: 0.9160\n",
            "Epoch 10/12\n",
            "49/49 [==============================] - 12s 246ms/step - loss: 0.2757 - sparse_categorical_accuracy: 0.9007 - val_loss: 0.2576 - val_sparse_categorical_accuracy: 0.9088\n",
            "Epoch 11/12\n",
            "49/49 [==============================] - 12s 253ms/step - loss: 0.2572 - sparse_categorical_accuracy: 0.9061 - val_loss: 0.2577 - val_sparse_categorical_accuracy: 0.9120\n",
            "Epoch 12/12\n",
            "49/49 [==============================] - 12s 254ms/step - loss: 0.2762 - sparse_categorical_accuracy: 0.8987 - val_loss: 0.2568 - val_sparse_categorical_accuracy: 0.9000\n",
            "Epoch 1/18\n",
            "49/49 [==============================] - 13s 265ms/step - loss: 0.2479 - sparse_categorical_accuracy: 0.9102 - val_loss: 0.2684 - val_sparse_categorical_accuracy: 0.9096\n",
            "Epoch 2/18\n",
            "49/49 [==============================] - 12s 251ms/step - loss: 0.2538 - sparse_categorical_accuracy: 0.9114 - val_loss: 0.2376 - val_sparse_categorical_accuracy: 0.9112\n",
            "Epoch 3/18\n",
            "49/49 [==============================] - 12s 248ms/step - loss: 0.2426 - sparse_categorical_accuracy: 0.9087 - val_loss: 0.2595 - val_sparse_categorical_accuracy: 0.9120\n",
            "Epoch 4/18\n",
            "49/49 [==============================] - 13s 257ms/step - loss: 0.2569 - sparse_categorical_accuracy: 0.9054 - val_loss: 0.2436 - val_sparse_categorical_accuracy: 0.9112\n",
            "Epoch 5/18\n",
            "49/49 [==============================] - 12s 251ms/step - loss: 0.2554 - sparse_categorical_accuracy: 0.9084 - val_loss: 0.2088 - val_sparse_categorical_accuracy: 0.9216\n",
            "Epoch 6/18\n",
            "49/49 [==============================] - 13s 258ms/step - loss: 0.2436 - sparse_categorical_accuracy: 0.9120 - val_loss: 0.2132 - val_sparse_categorical_accuracy: 0.9248\n",
            "Epoch 7/18\n",
            "49/49 [==============================] - 12s 248ms/step - loss: 0.2475 - sparse_categorical_accuracy: 0.9071 - val_loss: 0.2095 - val_sparse_categorical_accuracy: 0.9232\n",
            "Epoch 8/18\n",
            "49/49 [==============================] - 12s 252ms/step - loss: 0.2284 - sparse_categorical_accuracy: 0.9155 - val_loss: 0.2135 - val_sparse_categorical_accuracy: 0.9200\n",
            "Epoch 9/18\n",
            "49/49 [==============================] - 12s 250ms/step - loss: 0.2293 - sparse_categorical_accuracy: 0.9217 - val_loss: 0.2758 - val_sparse_categorical_accuracy: 0.9016\n",
            "Epoch 10/18\n",
            "49/49 [==============================] - 13s 257ms/step - loss: 0.2338 - sparse_categorical_accuracy: 0.9127 - val_loss: 0.2593 - val_sparse_categorical_accuracy: 0.9024\n",
            "Epoch 11/18\n",
            "49/49 [==============================] - 12s 248ms/step - loss: 0.2245 - sparse_categorical_accuracy: 0.9194 - val_loss: 0.1982 - val_sparse_categorical_accuracy: 0.9288\n",
            "Epoch 12/18\n",
            "49/49 [==============================] - 12s 252ms/step - loss: 0.2392 - sparse_categorical_accuracy: 0.9143 - val_loss: 0.2301 - val_sparse_categorical_accuracy: 0.9176\n",
            "Epoch 13/18\n",
            "49/49 [==============================] - 12s 247ms/step - loss: 0.2232 - sparse_categorical_accuracy: 0.9201 - val_loss: 0.2228 - val_sparse_categorical_accuracy: 0.9224\n",
            "Epoch 14/18\n",
            "49/49 [==============================] - 12s 252ms/step - loss: 0.2237 - sparse_categorical_accuracy: 0.9176 - val_loss: 0.2322 - val_sparse_categorical_accuracy: 0.9256\n",
            "Epoch 15/18\n",
            "49/49 [==============================] - 12s 245ms/step - loss: 0.2217 - sparse_categorical_accuracy: 0.9190 - val_loss: 0.2222 - val_sparse_categorical_accuracy: 0.9256\n",
            "Epoch 16/18\n",
            "49/49 [==============================] - 12s 249ms/step - loss: 0.2192 - sparse_categorical_accuracy: 0.9214 - val_loss: 0.2330 - val_sparse_categorical_accuracy: 0.9224\n",
            "Epoch 17/18\n",
            "49/49 [==============================] - 12s 254ms/step - loss: 0.2441 - sparse_categorical_accuracy: 0.9106 - val_loss: 0.2154 - val_sparse_categorical_accuracy: 0.9208\n",
            "Epoch 18/18\n",
            "49/49 [==============================] - 13s 255ms/step - loss: 0.2139 - sparse_categorical_accuracy: 0.9207 - val_loss: 0.2262 - val_sparse_categorical_accuracy: 0.9224\n",
            "WARNING:tensorflow:tpu_model (from tensorflow.contrib.tpu.python.tpu.keras_support) is experimental and may change or be removed at any time, and without warning.\n",
            "Epoch 1/1\n",
            "49/49 [==============================] - 119s 2s/step - loss: 0.7865 - sparse_categorical_accuracy: 0.7140 - val_loss: 1.5530 - val_sparse_categorical_accuracy: 0.6104\n",
            "Epoch 1/4\n",
            "49/49 [==============================] - 13s 258ms/step - loss: 0.4707 - sparse_categorical_accuracy: 0.8213 - val_loss: 1.6800 - val_sparse_categorical_accuracy: 0.4800\n",
            "Epoch 2/4\n",
            "49/49 [==============================] - 12s 250ms/step - loss: 0.4151 - sparse_categorical_accuracy: 0.8481 - val_loss: 1.5348 - val_sparse_categorical_accuracy: 0.4920\n",
            "Epoch 3/4\n",
            "49/49 [==============================] - 12s 248ms/step - loss: 0.3802 - sparse_categorical_accuracy: 0.8640 - val_loss: 1.2392 - val_sparse_categorical_accuracy: 0.6184\n",
            "Epoch 4/4\n",
            "49/49 [==============================] - 13s 257ms/step - loss: 0.3597 - sparse_categorical_accuracy: 0.8662 - val_loss: 0.7644 - val_sparse_categorical_accuracy: 0.7536\n",
            "Epoch 1/12\n",
            "49/49 [==============================] - 13s 266ms/step - loss: 0.3524 - sparse_categorical_accuracy: 0.8706 - val_loss: 0.6421 - val_sparse_categorical_accuracy: 0.7888\n",
            "Epoch 2/12\n",
            "49/49 [==============================] - 13s 257ms/step - loss: 0.3178 - sparse_categorical_accuracy: 0.8828 - val_loss: 0.4443 - val_sparse_categorical_accuracy: 0.8368\n",
            "Epoch 3/12\n",
            "49/49 [==============================] - 12s 250ms/step - loss: 0.3099 - sparse_categorical_accuracy: 0.8878 - val_loss: 0.3479 - val_sparse_categorical_accuracy: 0.8744\n",
            "Epoch 4/12\n",
            "49/49 [==============================] - 12s 251ms/step - loss: 0.3082 - sparse_categorical_accuracy: 0.8867 - val_loss: 0.2840 - val_sparse_categorical_accuracy: 0.9000\n",
            "Epoch 5/12\n",
            "49/49 [==============================] - 12s 254ms/step - loss: 0.2989 - sparse_categorical_accuracy: 0.8924 - val_loss: 0.2780 - val_sparse_categorical_accuracy: 0.9064\n",
            "Epoch 6/12\n",
            "49/49 [==============================] - 13s 256ms/step - loss: 0.2784 - sparse_categorical_accuracy: 0.8985 - val_loss: 0.2599 - val_sparse_categorical_accuracy: 0.9064\n",
            "Epoch 7/12\n",
            "49/49 [==============================] - 12s 252ms/step - loss: 0.2891 - sparse_categorical_accuracy: 0.8977 - val_loss: 0.2515 - val_sparse_categorical_accuracy: 0.9080\n",
            "Epoch 8/12\n",
            "49/49 [==============================] - 12s 250ms/step - loss: 0.2619 - sparse_categorical_accuracy: 0.9061 - val_loss: 0.2409 - val_sparse_categorical_accuracy: 0.9168\n",
            "Epoch 9/12\n",
            "49/49 [==============================] - 12s 254ms/step - loss: 0.2864 - sparse_categorical_accuracy: 0.8955 - val_loss: 0.2171 - val_sparse_categorical_accuracy: 0.9176\n",
            "Epoch 10/12\n",
            "49/49 [==============================] - 12s 253ms/step - loss: 0.2590 - sparse_categorical_accuracy: 0.9053 - val_loss: 0.2223 - val_sparse_categorical_accuracy: 0.9152\n",
            "Epoch 11/12\n",
            "49/49 [==============================] - 12s 254ms/step - loss: 0.2734 - sparse_categorical_accuracy: 0.9003 - val_loss: 0.2305 - val_sparse_categorical_accuracy: 0.9160\n",
            "Epoch 12/12\n",
            "49/49 [==============================] - 12s 250ms/step - loss: 0.2547 - sparse_categorical_accuracy: 0.9102 - val_loss: 0.2388 - val_sparse_categorical_accuracy: 0.9136\n",
            "Epoch 1/18\n",
            "49/49 [==============================] - 13s 261ms/step - loss: 0.2749 - sparse_categorical_accuracy: 0.8978 - val_loss: 0.3022 - val_sparse_categorical_accuracy: 0.8944\n",
            "Epoch 2/18\n",
            "49/49 [==============================] - 13s 255ms/step - loss: 0.2687 - sparse_categorical_accuracy: 0.9057 - val_loss: 0.2432 - val_sparse_categorical_accuracy: 0.9160\n",
            "Epoch 3/18\n",
            "49/49 [==============================] - 12s 250ms/step - loss: 0.2461 - sparse_categorical_accuracy: 0.9104 - val_loss: 0.2385 - val_sparse_categorical_accuracy: 0.9160\n",
            "Epoch 4/18\n",
            "49/49 [==============================] - 12s 251ms/step - loss: 0.2477 - sparse_categorical_accuracy: 0.9064 - val_loss: 0.2283 - val_sparse_categorical_accuracy: 0.9088\n",
            "Epoch 5/18\n",
            "49/49 [==============================] - 12s 252ms/step - loss: 0.2459 - sparse_categorical_accuracy: 0.9091 - val_loss: 0.2584 - val_sparse_categorical_accuracy: 0.9040\n",
            "Epoch 6/18\n",
            "49/49 [==============================] - 12s 251ms/step - loss: 0.2359 - sparse_categorical_accuracy: 0.9173 - val_loss: 0.2117 - val_sparse_categorical_accuracy: 0.9192\n",
            "Epoch 7/18\n",
            "49/49 [==============================] - 12s 253ms/step - loss: 0.2334 - sparse_categorical_accuracy: 0.9154 - val_loss: 0.1916 - val_sparse_categorical_accuracy: 0.9384\n",
            "Epoch 8/18\n",
            "49/49 [==============================] - 13s 255ms/step - loss: 0.2349 - sparse_categorical_accuracy: 0.9168 - val_loss: 0.1964 - val_sparse_categorical_accuracy: 0.9344\n",
            "Epoch 9/18\n",
            "49/49 [==============================] - 13s 255ms/step - loss: 0.2274 - sparse_categorical_accuracy: 0.9190 - val_loss: 0.2344 - val_sparse_categorical_accuracy: 0.9192\n",
            "Epoch 10/18\n",
            "49/49 [==============================] - 12s 251ms/step - loss: 0.2266 - sparse_categorical_accuracy: 0.9174 - val_loss: 0.2287 - val_sparse_categorical_accuracy: 0.9176\n",
            "Epoch 11/18\n",
            "49/49 [==============================] - 13s 256ms/step - loss: 0.2320 - sparse_categorical_accuracy: 0.9158 - val_loss: 0.2104 - val_sparse_categorical_accuracy: 0.9224\n",
            "Epoch 12/18\n",
            "49/49 [==============================] - 12s 253ms/step - loss: 0.2131 - sparse_categorical_accuracy: 0.9241 - val_loss: 0.2502 - val_sparse_categorical_accuracy: 0.9112\n",
            "Epoch 13/18\n",
            "49/49 [==============================] - 12s 251ms/step - loss: 0.2072 - sparse_categorical_accuracy: 0.9268 - val_loss: 0.2330 - val_sparse_categorical_accuracy: 0.9160\n",
            "Epoch 14/18\n",
            "49/49 [==============================] - 12s 251ms/step - loss: 0.2282 - sparse_categorical_accuracy: 0.9166 - val_loss: 0.2333 - val_sparse_categorical_accuracy: 0.9176\n",
            "Epoch 15/18\n",
            "49/49 [==============================] - 12s 250ms/step - loss: 0.2129 - sparse_categorical_accuracy: 0.9227 - val_loss: 0.2220 - val_sparse_categorical_accuracy: 0.9184\n",
            "Epoch 16/18\n",
            "49/49 [==============================] - 13s 255ms/step - loss: 0.2092 - sparse_categorical_accuracy: 0.9253 - val_loss: 0.2398 - val_sparse_categorical_accuracy: 0.9112\n",
            "Epoch 17/18\n",
            "49/49 [==============================] - 12s 251ms/step - loss: 0.2122 - sparse_categorical_accuracy: 0.9219 - val_loss: 0.2578 - val_sparse_categorical_accuracy: 0.9096\n",
            "Epoch 18/18\n",
            "49/49 [==============================] - 13s 257ms/step - loss: 0.2199 - sparse_categorical_accuracy: 0.9197 - val_loss: 0.2120 - val_sparse_categorical_accuracy: 0.9272\n",
            "WARNING:tensorflow:tpu_model (from tensorflow.contrib.tpu.python.tpu.keras_support) is experimental and may change or be removed at any time, and without warning.\n",
            "Epoch 1/1\n",
            "49/49 [==============================] - 142s 3s/step - loss: 0.8124 - sparse_categorical_accuracy: 0.7128 - val_loss: 1.3874 - val_sparse_categorical_accuracy: 0.6264\n",
            "Epoch 1/4\n",
            "49/49 [==============================] - 13s 260ms/step - loss: 0.5152 - sparse_categorical_accuracy: 0.8093 - val_loss: 1.5492 - val_sparse_categorical_accuracy: 0.5424\n",
            "Epoch 2/4\n",
            "49/49 [==============================] - 12s 251ms/step - loss: 0.4340 - sparse_categorical_accuracy: 0.8380 - val_loss: 1.3425 - val_sparse_categorical_accuracy: 0.5352\n",
            "Epoch 3/4\n",
            "49/49 [==============================] - 12s 244ms/step - loss: 0.4028 - sparse_categorical_accuracy: 0.8507 - val_loss: 1.0660 - val_sparse_categorical_accuracy: 0.6320\n",
            "Epoch 4/4\n",
            "49/49 [==============================] - 12s 254ms/step - loss: 0.4002 - sparse_categorical_accuracy: 0.8557 - val_loss: 0.5784 - val_sparse_categorical_accuracy: 0.7872\n",
            "Epoch 1/12\n",
            "49/49 [==============================] - 13s 265ms/step - loss: 0.3592 - sparse_categorical_accuracy: 0.8715 - val_loss: 0.3572 - val_sparse_categorical_accuracy: 0.8632\n",
            "Epoch 2/12\n",
            "49/49 [==============================] - 12s 251ms/step - loss: 0.3492 - sparse_categorical_accuracy: 0.8716 - val_loss: 0.2950 - val_sparse_categorical_accuracy: 0.9000\n",
            "Epoch 3/12\n",
            "49/49 [==============================] - 12s 249ms/step - loss: 0.3126 - sparse_categorical_accuracy: 0.8848 - val_loss: 0.2938 - val_sparse_categorical_accuracy: 0.8896\n",
            "Epoch 4/12\n",
            "49/49 [==============================] - 12s 249ms/step - loss: 0.3049 - sparse_categorical_accuracy: 0.8853 - val_loss: 0.2664 - val_sparse_categorical_accuracy: 0.9032\n",
            "Epoch 5/12\n",
            "49/49 [==============================] - 12s 251ms/step - loss: 0.3164 - sparse_categorical_accuracy: 0.8848 - val_loss: 0.2519 - val_sparse_categorical_accuracy: 0.9064\n",
            "Epoch 6/12\n",
            "49/49 [==============================] - 12s 252ms/step - loss: 0.3004 - sparse_categorical_accuracy: 0.8915 - val_loss: 0.2373 - val_sparse_categorical_accuracy: 0.9152\n",
            "Epoch 7/12\n",
            "49/49 [==============================] - 12s 246ms/step - loss: 0.2734 - sparse_categorical_accuracy: 0.8995 - val_loss: 0.2921 - val_sparse_categorical_accuracy: 0.8936\n",
            "Epoch 8/12\n",
            "49/49 [==============================] - 12s 249ms/step - loss: 0.2781 - sparse_categorical_accuracy: 0.8991 - val_loss: 0.2802 - val_sparse_categorical_accuracy: 0.8984\n",
            "Epoch 9/12\n",
            "49/49 [==============================] - 12s 246ms/step - loss: 0.2787 - sparse_categorical_accuracy: 0.9000 - val_loss: 0.2499 - val_sparse_categorical_accuracy: 0.9080\n",
            "Epoch 10/12\n",
            "49/49 [==============================] - 12s 252ms/step - loss: 0.2773 - sparse_categorical_accuracy: 0.9031 - val_loss: 0.2457 - val_sparse_categorical_accuracy: 0.9136\n",
            "Epoch 11/12\n",
            "49/49 [==============================] - 12s 247ms/step - loss: 0.2799 - sparse_categorical_accuracy: 0.8997 - val_loss: 0.2478 - val_sparse_categorical_accuracy: 0.9136\n",
            "Epoch 12/12\n",
            "49/49 [==============================] - 12s 249ms/step - loss: 0.2649 - sparse_categorical_accuracy: 0.9049 - val_loss: 0.2462 - val_sparse_categorical_accuracy: 0.9064\n",
            "Epoch 1/18\n",
            "49/49 [==============================] - 13s 259ms/step - loss: 0.2523 - sparse_categorical_accuracy: 0.9075 - val_loss: 0.2555 - val_sparse_categorical_accuracy: 0.9096\n",
            "Epoch 2/18\n",
            "49/49 [==============================] - 12s 245ms/step - loss: 0.2524 - sparse_categorical_accuracy: 0.9084 - val_loss: 0.2602 - val_sparse_categorical_accuracy: 0.9096\n",
            "Epoch 3/18\n",
            "49/49 [==============================] - 12s 252ms/step - loss: 0.2454 - sparse_categorical_accuracy: 0.9100 - val_loss: 0.2643 - val_sparse_categorical_accuracy: 0.9072\n",
            "Epoch 4/18\n",
            "49/49 [==============================] - 12s 252ms/step - loss: 0.2559 - sparse_categorical_accuracy: 0.9084 - val_loss: 0.2386 - val_sparse_categorical_accuracy: 0.9144\n",
            "Epoch 5/18\n",
            "49/49 [==============================] - 12s 245ms/step - loss: 0.2529 - sparse_categorical_accuracy: 0.9068 - val_loss: 0.2279 - val_sparse_categorical_accuracy: 0.9184\n",
            "Epoch 6/18\n",
            "49/49 [==============================] - 12s 249ms/step - loss: 0.2368 - sparse_categorical_accuracy: 0.9139 - val_loss: 0.2684 - val_sparse_categorical_accuracy: 0.9040\n",
            "Epoch 7/18\n",
            "49/49 [==============================] - 12s 255ms/step - loss: 0.2329 - sparse_categorical_accuracy: 0.9146 - val_loss: 0.2531 - val_sparse_categorical_accuracy: 0.9104\n",
            "Epoch 8/18\n",
            "49/49 [==============================] - 12s 247ms/step - loss: 0.2437 - sparse_categorical_accuracy: 0.9147 - val_loss: 0.2156 - val_sparse_categorical_accuracy: 0.9288\n",
            "Epoch 9/18\n",
            "49/49 [==============================] - 12s 250ms/step - loss: 0.2319 - sparse_categorical_accuracy: 0.9138 - val_loss: 0.2113 - val_sparse_categorical_accuracy: 0.9232\n",
            "Epoch 10/18\n",
            "49/49 [==============================] - 12s 248ms/step - loss: 0.2329 - sparse_categorical_accuracy: 0.9112 - val_loss: 0.2341 - val_sparse_categorical_accuracy: 0.9264\n",
            "Epoch 11/18\n",
            "49/49 [==============================] - 12s 253ms/step - loss: 0.2300 - sparse_categorical_accuracy: 0.9163 - val_loss: 0.2243 - val_sparse_categorical_accuracy: 0.9216\n",
            "Epoch 12/18\n",
            "49/49 [==============================] - 12s 249ms/step - loss: 0.2294 - sparse_categorical_accuracy: 0.9128 - val_loss: 0.1925 - val_sparse_categorical_accuracy: 0.9304\n",
            "Epoch 13/18\n",
            "49/49 [==============================] - 12s 253ms/step - loss: 0.2206 - sparse_categorical_accuracy: 0.9186 - val_loss: 0.2122 - val_sparse_categorical_accuracy: 0.9272\n",
            "Epoch 14/18\n",
            "49/49 [==============================] - 12s 248ms/step - loss: 0.2172 - sparse_categorical_accuracy: 0.9218 - val_loss: 0.2220 - val_sparse_categorical_accuracy: 0.9272\n",
            "Epoch 15/18\n",
            "49/49 [==============================] - 12s 249ms/step - loss: 0.2243 - sparse_categorical_accuracy: 0.9182 - val_loss: 0.2178 - val_sparse_categorical_accuracy: 0.9312\n",
            "Epoch 16/18\n",
            "49/49 [==============================] - 12s 250ms/step - loss: 0.2285 - sparse_categorical_accuracy: 0.9141 - val_loss: 0.1869 - val_sparse_categorical_accuracy: 0.9280\n",
            "Epoch 17/18\n",
            "49/49 [==============================] - 12s 250ms/step - loss: 0.2240 - sparse_categorical_accuracy: 0.9175 - val_loss: 0.2165 - val_sparse_categorical_accuracy: 0.9200\n",
            "Epoch 18/18\n",
            "49/49 [==============================] - 12s 247ms/step - loss: 0.2166 - sparse_categorical_accuracy: 0.9201 - val_loss: 0.2135 - val_sparse_categorical_accuracy: 0.9232\n",
            "WARNING:tensorflow:tpu_model (from tensorflow.contrib.tpu.python.tpu.keras_support) is experimental and may change or be removed at any time, and without warning.\n",
            "Epoch 1/1\n",
            "49/49 [==============================] - 172s 4s/step - loss: 0.8389 - sparse_categorical_accuracy: 0.7065 - val_loss: 1.4701 - val_sparse_categorical_accuracy: 0.6400\n",
            "Epoch 1/4\n",
            "49/49 [==============================] - 13s 260ms/step - loss: 0.5089 - sparse_categorical_accuracy: 0.8160 - val_loss: 1.2549 - val_sparse_categorical_accuracy: 0.6312\n",
            "Epoch 2/4\n",
            "49/49 [==============================] - 12s 245ms/step - loss: 0.4469 - sparse_categorical_accuracy: 0.8347 - val_loss: 1.0106 - val_sparse_categorical_accuracy: 0.6632\n",
            "Epoch 3/4\n",
            "49/49 [==============================] - 12s 251ms/step - loss: 0.3987 - sparse_categorical_accuracy: 0.8573 - val_loss: 0.6280 - val_sparse_categorical_accuracy: 0.7656\n",
            "Epoch 4/4\n",
            "49/49 [==============================] - 12s 253ms/step - loss: 0.3845 - sparse_categorical_accuracy: 0.8584 - val_loss: 0.5140 - val_sparse_categorical_accuracy: 0.8096\n",
            "Epoch 1/12\n",
            "49/49 [==============================] - 13s 269ms/step - loss: 0.3616 - sparse_categorical_accuracy: 0.8652 - val_loss: 0.3851 - val_sparse_categorical_accuracy: 0.8624\n",
            "Epoch 2/12\n",
            "49/49 [==============================] - 12s 249ms/step - loss: 0.3436 - sparse_categorical_accuracy: 0.8740 - val_loss: 0.3615 - val_sparse_categorical_accuracy: 0.8720\n",
            "Epoch 3/12\n",
            "49/49 [==============================] - 12s 248ms/step - loss: 0.3279 - sparse_categorical_accuracy: 0.8739 - val_loss: 0.2888 - val_sparse_categorical_accuracy: 0.8912\n",
            "Epoch 4/12\n",
            "49/49 [==============================] - 12s 252ms/step - loss: 0.3253 - sparse_categorical_accuracy: 0.8784 - val_loss: 0.2883 - val_sparse_categorical_accuracy: 0.8944\n",
            "Epoch 5/12\n",
            "49/49 [==============================] - 12s 253ms/step - loss: 0.2999 - sparse_categorical_accuracy: 0.8847 - val_loss: 0.3199 - val_sparse_categorical_accuracy: 0.8824\n",
            "Epoch 6/12\n",
            "49/49 [==============================] - 12s 253ms/step - loss: 0.2905 - sparse_categorical_accuracy: 0.8919 - val_loss: 0.3258 - val_sparse_categorical_accuracy: 0.8832\n",
            "Epoch 7/12\n",
            "49/49 [==============================] - 12s 251ms/step - loss: 0.2819 - sparse_categorical_accuracy: 0.8951 - val_loss: 0.1943 - val_sparse_categorical_accuracy: 0.9216\n",
            "Epoch 8/12\n",
            "49/49 [==============================] - 12s 246ms/step - loss: 0.2591 - sparse_categorical_accuracy: 0.9054 - val_loss: 0.2253 - val_sparse_categorical_accuracy: 0.9104\n",
            "Epoch 9/12\n",
            "49/49 [==============================] - 12s 245ms/step - loss: 0.2749 - sparse_categorical_accuracy: 0.8977 - val_loss: 0.2260 - val_sparse_categorical_accuracy: 0.9104\n",
            "Epoch 10/12\n",
            "49/49 [==============================] - 12s 251ms/step - loss: 0.2824 - sparse_categorical_accuracy: 0.8973 - val_loss: 0.2150 - val_sparse_categorical_accuracy: 0.9168\n",
            "Epoch 11/12\n",
            "49/49 [==============================] - 12s 247ms/step - loss: 0.2832 - sparse_categorical_accuracy: 0.8959 - val_loss: 0.2123 - val_sparse_categorical_accuracy: 0.9176\n",
            "Epoch 12/12\n",
            "49/49 [==============================] - 12s 248ms/step - loss: 0.2628 - sparse_categorical_accuracy: 0.9059 - val_loss: 0.2394 - val_sparse_categorical_accuracy: 0.9048\n",
            "Epoch 1/18\n",
            "49/49 [==============================] - 13s 260ms/step - loss: 0.2491 - sparse_categorical_accuracy: 0.9071 - val_loss: 0.2257 - val_sparse_categorical_accuracy: 0.9168\n",
            "Epoch 2/18\n",
            "49/49 [==============================] - 12s 254ms/step - loss: 0.2473 - sparse_categorical_accuracy: 0.9098 - val_loss: 0.2133 - val_sparse_categorical_accuracy: 0.9168\n",
            "Epoch 3/18\n",
            "49/49 [==============================] - 12s 250ms/step - loss: 0.2574 - sparse_categorical_accuracy: 0.9069 - val_loss: 0.2124 - val_sparse_categorical_accuracy: 0.9168\n",
            "Epoch 4/18\n",
            "49/49 [==============================] - 12s 252ms/step - loss: 0.2579 - sparse_categorical_accuracy: 0.9053 - val_loss: 0.1948 - val_sparse_categorical_accuracy: 0.9296\n",
            "Epoch 5/18\n",
            "49/49 [==============================] - 13s 255ms/step - loss: 0.2311 - sparse_categorical_accuracy: 0.9176 - val_loss: 0.2261 - val_sparse_categorical_accuracy: 0.9240\n",
            "Epoch 6/18\n",
            "49/49 [==============================] - 12s 251ms/step - loss: 0.2455 - sparse_categorical_accuracy: 0.9044 - val_loss: 0.2159 - val_sparse_categorical_accuracy: 0.9200\n",
            "Epoch 7/18\n",
            "49/49 [==============================] - 12s 251ms/step - loss: 0.2449 - sparse_categorical_accuracy: 0.9118 - val_loss: 0.1928 - val_sparse_categorical_accuracy: 0.9376\n",
            "Epoch 8/18\n",
            "49/49 [==============================] - 12s 245ms/step - loss: 0.2266 - sparse_categorical_accuracy: 0.9193 - val_loss: 0.2144 - val_sparse_categorical_accuracy: 0.9232\n",
            "Epoch 9/18\n",
            "49/49 [==============================] - 12s 254ms/step - loss: 0.2447 - sparse_categorical_accuracy: 0.9080 - val_loss: 0.2115 - val_sparse_categorical_accuracy: 0.9288\n",
            "Epoch 10/18\n",
            "49/49 [==============================] - 12s 248ms/step - loss: 0.2371 - sparse_categorical_accuracy: 0.9143 - val_loss: 0.2037 - val_sparse_categorical_accuracy: 0.9336\n",
            "Epoch 11/18\n",
            "49/49 [==============================] - 12s 246ms/step - loss: 0.2317 - sparse_categorical_accuracy: 0.9180 - val_loss: 0.1998 - val_sparse_categorical_accuracy: 0.9376\n",
            "Epoch 12/18\n",
            "49/49 [==============================] - 12s 252ms/step - loss: 0.2174 - sparse_categorical_accuracy: 0.9169 - val_loss: 0.2055 - val_sparse_categorical_accuracy: 0.9296\n",
            "Epoch 13/18\n",
            "49/49 [==============================] - 12s 250ms/step - loss: 0.2322 - sparse_categorical_accuracy: 0.9156 - val_loss: 0.2201 - val_sparse_categorical_accuracy: 0.9216\n",
            "Epoch 14/18\n",
            "49/49 [==============================] - 12s 253ms/step - loss: 0.2204 - sparse_categorical_accuracy: 0.9156 - val_loss: 0.2175 - val_sparse_categorical_accuracy: 0.9176\n",
            "Epoch 15/18\n",
            "49/49 [==============================] - 12s 249ms/step - loss: 0.2157 - sparse_categorical_accuracy: 0.9193 - val_loss: 0.2226 - val_sparse_categorical_accuracy: 0.9136\n",
            "Epoch 16/18\n",
            "49/49 [==============================] - 12s 253ms/step - loss: 0.2107 - sparse_categorical_accuracy: 0.9196 - val_loss: 0.2300 - val_sparse_categorical_accuracy: 0.9192\n",
            "Epoch 17/18\n",
            "49/49 [==============================] - 12s 245ms/step - loss: 0.2156 - sparse_categorical_accuracy: 0.9197 - val_loss: 0.1805 - val_sparse_categorical_accuracy: 0.9392\n",
            "Epoch 18/18\n",
            "49/49 [==============================] - 12s 251ms/step - loss: 0.2204 - sparse_categorical_accuracy: 0.9174 - val_loss: 0.1793 - val_sparse_categorical_accuracy: 0.9304\n",
            "WARNING:tensorflow:tpu_model (from tensorflow.contrib.tpu.python.tpu.keras_support) is experimental and may change or be removed at any time, and without warning.\n",
            "Epoch 1/1\n",
            "49/49 [==============================] - 203s 4s/step - loss: 0.8434 - sparse_categorical_accuracy: 0.6955 - val_loss: 1.6622 - val_sparse_categorical_accuracy: 0.5240\n",
            "Epoch 1/4\n",
            "49/49 [==============================] - 13s 260ms/step - loss: 0.5163 - sparse_categorical_accuracy: 0.8086 - val_loss: 1.7354 - val_sparse_categorical_accuracy: 0.4552\n",
            "Epoch 2/4\n",
            "49/49 [==============================] - 12s 250ms/step - loss: 0.4548 - sparse_categorical_accuracy: 0.8301 - val_loss: 1.5207 - val_sparse_categorical_accuracy: 0.5600\n",
            "Epoch 3/4\n",
            "49/49 [==============================] - 12s 251ms/step - loss: 0.4122 - sparse_categorical_accuracy: 0.8442 - val_loss: 1.4477 - val_sparse_categorical_accuracy: 0.5352\n",
            "Epoch 4/4\n",
            "49/49 [==============================] - 12s 254ms/step - loss: 0.3785 - sparse_categorical_accuracy: 0.8668 - val_loss: 0.6838 - val_sparse_categorical_accuracy: 0.7464\n",
            "Epoch 1/12\n",
            "49/49 [==============================] - 13s 273ms/step - loss: 0.3405 - sparse_categorical_accuracy: 0.8716 - val_loss: 0.6788 - val_sparse_categorical_accuracy: 0.7456\n",
            "Epoch 2/12\n",
            "49/49 [==============================] - 12s 254ms/step - loss: 0.3450 - sparse_categorical_accuracy: 0.8755 - val_loss: 0.3641 - val_sparse_categorical_accuracy: 0.8680\n",
            "Epoch 3/12\n",
            "49/49 [==============================] - 12s 253ms/step - loss: 0.3312 - sparse_categorical_accuracy: 0.8816 - val_loss: 0.3053 - val_sparse_categorical_accuracy: 0.8944\n",
            "Epoch 4/12\n",
            "49/49 [==============================] - 13s 257ms/step - loss: 0.3183 - sparse_categorical_accuracy: 0.8859 - val_loss: 0.2565 - val_sparse_categorical_accuracy: 0.9088\n",
            "Epoch 5/12\n",
            "49/49 [==============================] - 12s 245ms/step - loss: 0.2957 - sparse_categorical_accuracy: 0.8946 - val_loss: 0.2426 - val_sparse_categorical_accuracy: 0.9072\n",
            "Epoch 6/12\n",
            "49/49 [==============================] - 12s 251ms/step - loss: 0.2965 - sparse_categorical_accuracy: 0.8904 - val_loss: 0.2370 - val_sparse_categorical_accuracy: 0.9080\n",
            "Epoch 7/12\n",
            "49/49 [==============================] - 12s 253ms/step - loss: 0.2951 - sparse_categorical_accuracy: 0.8944 - val_loss: 0.2407 - val_sparse_categorical_accuracy: 0.9056\n",
            "Epoch 8/12\n",
            "49/49 [==============================] - 13s 257ms/step - loss: 0.2898 - sparse_categorical_accuracy: 0.8936 - val_loss: 0.2476 - val_sparse_categorical_accuracy: 0.9072\n",
            "Epoch 9/12\n",
            "49/49 [==============================] - 12s 250ms/step - loss: 0.2868 - sparse_categorical_accuracy: 0.8997 - val_loss: 0.2070 - val_sparse_categorical_accuracy: 0.9216\n",
            "Epoch 10/12\n",
            "49/49 [==============================] - 12s 251ms/step - loss: 0.2803 - sparse_categorical_accuracy: 0.9004 - val_loss: 0.2615 - val_sparse_categorical_accuracy: 0.9048\n",
            "Epoch 11/12\n",
            "49/49 [==============================] - 12s 253ms/step - loss: 0.2751 - sparse_categorical_accuracy: 0.8988 - val_loss: 0.2076 - val_sparse_categorical_accuracy: 0.9208\n",
            "Epoch 12/12\n",
            "49/49 [==============================] - 12s 245ms/step - loss: 0.2663 - sparse_categorical_accuracy: 0.9018 - val_loss: 0.2128 - val_sparse_categorical_accuracy: 0.9248\n",
            "Epoch 1/18\n",
            "49/49 [==============================] - 13s 258ms/step - loss: 0.2755 - sparse_categorical_accuracy: 0.9000 - val_loss: 0.2311 - val_sparse_categorical_accuracy: 0.9120\n",
            "Epoch 2/18\n",
            "49/49 [==============================] - 12s 251ms/step - loss: 0.2569 - sparse_categorical_accuracy: 0.9058 - val_loss: 0.2122 - val_sparse_categorical_accuracy: 0.9240\n",
            "Epoch 3/18\n",
            "49/49 [==============================] - 13s 259ms/step - loss: 0.2588 - sparse_categorical_accuracy: 0.9092 - val_loss: 0.2148 - val_sparse_categorical_accuracy: 0.9168\n",
            "Epoch 4/18\n",
            "49/49 [==============================] - 12s 249ms/step - loss: 0.2741 - sparse_categorical_accuracy: 0.9013 - val_loss: 0.2409 - val_sparse_categorical_accuracy: 0.9112\n",
            "Epoch 5/18\n",
            "49/49 [==============================] - 12s 251ms/step - loss: 0.2473 - sparse_categorical_accuracy: 0.9150 - val_loss: 0.2081 - val_sparse_categorical_accuracy: 0.9248\n",
            "Epoch 6/18\n",
            "49/49 [==============================] - 12s 247ms/step - loss: 0.2453 - sparse_categorical_accuracy: 0.9095 - val_loss: 0.2170 - val_sparse_categorical_accuracy: 0.9240\n",
            "Epoch 7/18\n",
            "49/49 [==============================] - 12s 252ms/step - loss: 0.2473 - sparse_categorical_accuracy: 0.9081 - val_loss: 0.2011 - val_sparse_categorical_accuracy: 0.9312\n",
            "Epoch 8/18\n",
            "49/49 [==============================] - 12s 251ms/step - loss: 0.2418 - sparse_categorical_accuracy: 0.9093 - val_loss: 0.2141 - val_sparse_categorical_accuracy: 0.9248\n",
            "Epoch 9/18\n",
            "49/49 [==============================] - 12s 246ms/step - loss: 0.2300 - sparse_categorical_accuracy: 0.9176 - val_loss: 0.2026 - val_sparse_categorical_accuracy: 0.9312\n",
            "Epoch 10/18\n",
            "49/49 [==============================] - 12s 251ms/step - loss: 0.2258 - sparse_categorical_accuracy: 0.9175 - val_loss: 0.1940 - val_sparse_categorical_accuracy: 0.9264\n",
            "Epoch 11/18\n",
            "49/49 [==============================] - 12s 250ms/step - loss: 0.2423 - sparse_categorical_accuracy: 0.9118 - val_loss: 0.2304 - val_sparse_categorical_accuracy: 0.9184\n",
            "Epoch 12/18\n",
            "49/49 [==============================] - 13s 255ms/step - loss: 0.2367 - sparse_categorical_accuracy: 0.9143 - val_loss: 0.1924 - val_sparse_categorical_accuracy: 0.9328\n",
            "Epoch 13/18\n",
            "49/49 [==============================] - 12s 249ms/step - loss: 0.2272 - sparse_categorical_accuracy: 0.9185 - val_loss: 0.1966 - val_sparse_categorical_accuracy: 0.9280\n",
            "Epoch 14/18\n",
            "49/49 [==============================] - 12s 249ms/step - loss: 0.2123 - sparse_categorical_accuracy: 0.9242 - val_loss: 0.2392 - val_sparse_categorical_accuracy: 0.9160\n",
            "Epoch 15/18\n",
            "49/49 [==============================] - 12s 250ms/step - loss: 0.2209 - sparse_categorical_accuracy: 0.9189 - val_loss: 0.1815 - val_sparse_categorical_accuracy: 0.9344\n",
            "Epoch 16/18\n",
            "49/49 [==============================] - 13s 255ms/step - loss: 0.2215 - sparse_categorical_accuracy: 0.9179 - val_loss: 0.2278 - val_sparse_categorical_accuracy: 0.9112\n",
            "Epoch 17/18\n",
            "49/49 [==============================] - 12s 251ms/step - loss: 0.2242 - sparse_categorical_accuracy: 0.9173 - val_loss: 0.2245 - val_sparse_categorical_accuracy: 0.9144\n",
            "Epoch 18/18\n",
            "49/49 [==============================] - 12s 251ms/step - loss: 0.2238 - sparse_categorical_accuracy: 0.9171 - val_loss: 0.3065 - val_sparse_categorical_accuracy: 0.8840\n",
            "WARNING:tensorflow:tpu_model (from tensorflow.contrib.tpu.python.tpu.keras_support) is experimental and may change or be removed at any time, and without warning.\n",
            "Epoch 1/1\n",
            "49/49 [==============================] - 234s 5s/step - loss: 0.8412 - sparse_categorical_accuracy: 0.7068 - val_loss: 1.3724 - val_sparse_categorical_accuracy: 0.6472\n",
            "Epoch 1/4\n",
            "49/49 [==============================] - 13s 261ms/step - loss: 0.5237 - sparse_categorical_accuracy: 0.8023 - val_loss: 1.3996 - val_sparse_categorical_accuracy: 0.6032\n",
            "Epoch 2/4\n",
            "49/49 [==============================] - 12s 247ms/step - loss: 0.4661 - sparse_categorical_accuracy: 0.8312 - val_loss: 1.1664 - val_sparse_categorical_accuracy: 0.6312\n",
            "Epoch 3/4\n",
            "49/49 [==============================] - 12s 254ms/step - loss: 0.4161 - sparse_categorical_accuracy: 0.8438 - val_loss: 0.8198 - val_sparse_categorical_accuracy: 0.7336\n",
            "Epoch 4/4\n",
            "49/49 [==============================] - 12s 253ms/step - loss: 0.3905 - sparse_categorical_accuracy: 0.8542 - val_loss: 0.6543 - val_sparse_categorical_accuracy: 0.7640\n",
            "Epoch 1/12\n",
            "49/49 [==============================] - 13s 266ms/step - loss: 0.3594 - sparse_categorical_accuracy: 0.8680 - val_loss: 0.3907 - val_sparse_categorical_accuracy: 0.8544\n",
            "Epoch 2/12\n",
            "49/49 [==============================] - 13s 256ms/step - loss: 0.3391 - sparse_categorical_accuracy: 0.8794 - val_loss: 0.3655 - val_sparse_categorical_accuracy: 0.8608\n",
            "Epoch 3/12\n",
            "49/49 [==============================] - 12s 252ms/step - loss: 0.3247 - sparse_categorical_accuracy: 0.8795 - val_loss: 0.3031 - val_sparse_categorical_accuracy: 0.8848\n",
            "Epoch 4/12\n",
            "49/49 [==============================] - 12s 255ms/step - loss: 0.3272 - sparse_categorical_accuracy: 0.8834 - val_loss: 0.3588 - val_sparse_categorical_accuracy: 0.8624\n",
            "Epoch 5/12\n",
            "49/49 [==============================] - 13s 258ms/step - loss: 0.2972 - sparse_categorical_accuracy: 0.8931 - val_loss: 0.2722 - val_sparse_categorical_accuracy: 0.8896\n",
            "Epoch 6/12\n",
            "49/49 [==============================] - 12s 243ms/step - loss: 0.3010 - sparse_categorical_accuracy: 0.8883 - val_loss: 0.2885 - val_sparse_categorical_accuracy: 0.8952\n",
            "Epoch 7/12\n",
            "49/49 [==============================] - 13s 256ms/step - loss: 0.2878 - sparse_categorical_accuracy: 0.8955 - val_loss: 0.2917 - val_sparse_categorical_accuracy: 0.8960\n",
            "Epoch 8/12\n",
            "49/49 [==============================] - 12s 249ms/step - loss: 0.2928 - sparse_categorical_accuracy: 0.8920 - val_loss: 0.3450 - val_sparse_categorical_accuracy: 0.8712\n",
            "Epoch 9/12\n",
            "49/49 [==============================] - 12s 255ms/step - loss: 0.2792 - sparse_categorical_accuracy: 0.8996 - val_loss: 0.2898 - val_sparse_categorical_accuracy: 0.8872\n",
            "Epoch 10/12\n",
            "49/49 [==============================] - 12s 249ms/step - loss: 0.2919 - sparse_categorical_accuracy: 0.8905 - val_loss: 0.2771 - val_sparse_categorical_accuracy: 0.8968\n",
            "Epoch 11/12\n",
            "49/49 [==============================] - 13s 257ms/step - loss: 0.2608 - sparse_categorical_accuracy: 0.9024 - val_loss: 0.2618 - val_sparse_categorical_accuracy: 0.9016\n",
            "Epoch 12/12\n",
            "49/49 [==============================] - 12s 250ms/step - loss: 0.2796 - sparse_categorical_accuracy: 0.9016 - val_loss: 0.2441 - val_sparse_categorical_accuracy: 0.9120\n",
            "Epoch 1/18\n",
            "49/49 [==============================] - 13s 266ms/step - loss: 0.2631 - sparse_categorical_accuracy: 0.9014 - val_loss: 0.2783 - val_sparse_categorical_accuracy: 0.9032\n",
            "Epoch 2/18\n",
            "49/49 [==============================] - 12s 255ms/step - loss: 0.2668 - sparse_categorical_accuracy: 0.9061 - val_loss: 0.2494 - val_sparse_categorical_accuracy: 0.9120\n",
            "Epoch 3/18\n",
            "49/49 [==============================] - 12s 247ms/step - loss: 0.2420 - sparse_categorical_accuracy: 0.9106 - val_loss: 0.2421 - val_sparse_categorical_accuracy: 0.9064\n",
            "Epoch 4/18\n",
            "49/49 [==============================] - 12s 252ms/step - loss: 0.2517 - sparse_categorical_accuracy: 0.9056 - val_loss: 0.2245 - val_sparse_categorical_accuracy: 0.9184\n",
            "Epoch 5/18\n",
            "49/49 [==============================] - 12s 254ms/step - loss: 0.2549 - sparse_categorical_accuracy: 0.9042 - val_loss: 0.2150 - val_sparse_categorical_accuracy: 0.9216\n",
            "Epoch 6/18\n",
            "49/49 [==============================] - 13s 256ms/step - loss: 0.2463 - sparse_categorical_accuracy: 0.9100 - val_loss: 0.2393 - val_sparse_categorical_accuracy: 0.9136\n",
            "Epoch 7/18\n",
            "49/49 [==============================] - 12s 248ms/step - loss: 0.2379 - sparse_categorical_accuracy: 0.9133 - val_loss: 0.2090 - val_sparse_categorical_accuracy: 0.9240\n",
            "Epoch 8/18\n",
            "49/49 [==============================] - 12s 254ms/step - loss: 0.2484 - sparse_categorical_accuracy: 0.9068 - val_loss: 0.2236 - val_sparse_categorical_accuracy: 0.9152\n",
            "Epoch 9/18\n",
            "49/49 [==============================] - 12s 246ms/step - loss: 0.2377 - sparse_categorical_accuracy: 0.9151 - val_loss: 0.2431 - val_sparse_categorical_accuracy: 0.9152\n",
            "Epoch 10/18\n",
            "49/49 [==============================] - 12s 248ms/step - loss: 0.2423 - sparse_categorical_accuracy: 0.9106 - val_loss: 0.2357 - val_sparse_categorical_accuracy: 0.9136\n",
            "Epoch 11/18\n",
            "49/49 [==============================] - 12s 252ms/step - loss: 0.2367 - sparse_categorical_accuracy: 0.9161 - val_loss: 0.2030 - val_sparse_categorical_accuracy: 0.9320\n",
            "Epoch 12/18\n",
            "49/49 [==============================] - 12s 252ms/step - loss: 0.2330 - sparse_categorical_accuracy: 0.9147 - val_loss: 0.2127 - val_sparse_categorical_accuracy: 0.9248\n",
            "Epoch 13/18\n",
            "49/49 [==============================] - 12s 254ms/step - loss: 0.2363 - sparse_categorical_accuracy: 0.9117 - val_loss: 0.2383 - val_sparse_categorical_accuracy: 0.9176\n",
            "Epoch 14/18\n",
            "49/49 [==============================] - 12s 251ms/step - loss: 0.2280 - sparse_categorical_accuracy: 0.9178 - val_loss: 0.2392 - val_sparse_categorical_accuracy: 0.9160\n",
            "Epoch 15/18\n",
            "49/49 [==============================] - 12s 253ms/step - loss: 0.2233 - sparse_categorical_accuracy: 0.9178 - val_loss: 0.2529 - val_sparse_categorical_accuracy: 0.9024\n",
            "Epoch 16/18\n",
            "49/49 [==============================] - 12s 252ms/step - loss: 0.2186 - sparse_categorical_accuracy: 0.9202 - val_loss: 0.2653 - val_sparse_categorical_accuracy: 0.8992\n",
            "Epoch 17/18\n",
            "49/49 [==============================] - 12s 254ms/step - loss: 0.2142 - sparse_categorical_accuracy: 0.9201 - val_loss: 0.2768 - val_sparse_categorical_accuracy: 0.9032\n",
            "Epoch 18/18\n",
            "49/49 [==============================] - 12s 253ms/step - loss: 0.2137 - sparse_categorical_accuracy: 0.9205 - val_loss: 0.2406 - val_sparse_categorical_accuracy: 0.9128\n"
          ],
          "name": "stdout"
        }
      ]
    },
    {
      "cell_type": "code",
      "metadata": {
        "id": "GCNLPp-ByT61",
        "colab_type": "code",
        "outputId": "42e52c02-fcb8-4dc2-dcc4-346c2c9b994a",
        "colab": {
          "base_uri": "https://localhost:8080/",
          "height": 354
        }
      },
      "source": [
        "clear_session()\n",
        "\n",
        "models = []\n",
        "evals = []\n",
        "all_preds = []\n",
        "for i in range(6):\n",
        "    model =  get_model_bn_do()\n",
        "    model.load_weights(model_path + 'cnn_model' + str(i) + '.h5')\n",
        "    evals.append(model.evaluate_generator(test_batches))\n",
        "    all_preds.append(model.predict_generator(test_batches))\n",
        "    models.append(model)"
      ],
      "execution_count": 0,
      "outputs": [
        {
          "output_type": "stream",
          "text": [
            "WARNING:tensorflow:tpu_model (from tensorflow.contrib.tpu.python.tpu.keras_support) is experimental and may change or be removed at any time, and without warning.\n",
            "WARNING:tensorflow:Cannot update non-variable config: epsilon\n",
            "WARNING:tensorflow:Cannot update non-variable config: amsgrad\n",
            "WARNING:tensorflow:tpu_model (from tensorflow.contrib.tpu.python.tpu.keras_support) is experimental and may change or be removed at any time, and without warning.\n",
            "WARNING:tensorflow:Cannot update non-variable config: epsilon\n",
            "WARNING:tensorflow:Cannot update non-variable config: amsgrad\n",
            "WARNING:tensorflow:tpu_model (from tensorflow.contrib.tpu.python.tpu.keras_support) is experimental and may change or be removed at any time, and without warning.\n",
            "WARNING:tensorflow:Cannot update non-variable config: epsilon\n",
            "WARNING:tensorflow:Cannot update non-variable config: amsgrad\n",
            "WARNING:tensorflow:tpu_model (from tensorflow.contrib.tpu.python.tpu.keras_support) is experimental and may change or be removed at any time, and without warning.\n",
            "WARNING:tensorflow:Cannot update non-variable config: epsilon\n",
            "WARNING:tensorflow:Cannot update non-variable config: amsgrad\n",
            "WARNING:tensorflow:tpu_model (from tensorflow.contrib.tpu.python.tpu.keras_support) is experimental and may change or be removed at any time, and without warning.\n",
            "WARNING:tensorflow:Cannot update non-variable config: epsilon\n",
            "WARNING:tensorflow:Cannot update non-variable config: amsgrad\n",
            "WARNING:tensorflow:tpu_model (from tensorflow.contrib.tpu.python.tpu.keras_support) is experimental and may change or be removed at any time, and without warning.\n",
            "WARNING:tensorflow:Cannot update non-variable config: epsilon\n",
            "WARNING:tensorflow:Cannot update non-variable config: amsgrad\n"
          ],
          "name": "stdout"
        }
      ]
    },
    {
      "cell_type": "code",
      "metadata": {
        "id": "CTFBQTF0yT67",
        "colab_type": "code",
        "outputId": "9f87194a-682b-4255-f740-c02236614f9b",
        "colab": {
          "base_uri": "https://localhost:8080/",
          "height": 34
        }
      },
      "source": [
        "# evals = np.array([m.evaluate_generator(test_batches) for m in models])\n",
        "evals = np.array(evals)\n",
        "evals.mean(axis=0)"
      ],
      "execution_count": 0,
      "outputs": [
        {
          "output_type": "execute_result",
          "data": {
            "text/plain": [
              "array([0.24176455, 0.91303331])"
            ]
          },
          "metadata": {
            "tags": []
          },
          "execution_count": 42
        }
      ]
    },
    {
      "cell_type": "code",
      "metadata": {
        "id": "vKMrpaWNyT6_",
        "colab_type": "code",
        "colab": {}
      },
      "source": [
        "# all_preds = np.stack([m.predict_generator(test_batches) for m in models])\n",
        "all_preds = np.stack(all_preds)\n",
        "avg_preds = all_preds.mean(axis=0)"
      ],
      "execution_count": 0,
      "outputs": []
    },
    {
      "cell_type": "code",
      "metadata": {
        "id": "PDUEtp4pyw8-",
        "colab_type": "code",
        "outputId": "8cc3c356-9bd4-4be7-9ea9-1fe650518938",
        "colab": {
          "base_uri": "https://localhost:8080/",
          "height": 34
        }
      },
      "source": [
        "# with tf.Session() as sess:\n",
        "#     sess.run(tf.keras.metrics.sparse_categorical_accuracy(y_test, avg_preds))\n",
        "#     print('Ensembing accuray:', np.mean(tf.keras.metrics.sparse_categorical_accuracy(y_test, avg_preds).eval()))\n",
        "    \n",
        "# tf.keras.metrics.sparse_categorical_accuracy(y_test, avg_preds).eval()\n",
        "\n",
        "from sklearn.metrics import accuracy_score\n",
        "accuracy_score(y_test, np.argmax(avg_preds, axis=1))"
      ],
      "execution_count": 0,
      "outputs": [
        {
          "output_type": "execute_result",
          "data": {
            "text/plain": [
              "0.9278"
            ]
          },
          "metadata": {
            "tags": []
          },
          "execution_count": 59
        }
      ]
    },
    {
      "cell_type": "markdown",
      "metadata": {
        "id": "MnzGILVbyT7J",
        "colab_type": "text"
      },
      "source": [
        "**This is on par with the state-of-the-art:** https://github.com/zalandoresearch/fashion-mnist"
      ]
    },
    {
      "cell_type": "markdown",
      "metadata": {
        "id": "W6k27U5qyT7K",
        "colab_type": "text"
      },
      "source": [
        "## Plot images with predictions"
      ]
    },
    {
      "cell_type": "code",
      "metadata": {
        "id": "SLpNR-jnyT7K",
        "colab_type": "code",
        "colab": {}
      },
      "source": [
        "def plot_image(i, predictions_array, true_label, img):\n",
        "    predictions_array, true_label, img = predictions_array[i], true_label[i], img[i]\n",
        "    plt.grid(False)\n",
        "    plt.xticks([])\n",
        "    plt.yticks([])\n",
        "\n",
        "    plt.imshow(img, cmap=plt.cm.binary)\n",
        "\n",
        "    predicted_label = np.argmax(predictions_array)\n",
        "    if predicted_label == true_label:\n",
        "        color = 'blue'\n",
        "    else:\n",
        "        color = 'red'\n",
        "\n",
        "    plt.xlabel(\"{} {:2.0f}% ({})\".format(class_names[predicted_label],\n",
        "                                100*np.max(predictions_array),\n",
        "                                class_names[true_label]),\n",
        "                                color=color)\n",
        "\n",
        "def plot_value_array(i, predictions_array, true_label):\n",
        "    predictions_array, true_label = predictions_array[i], true_label[i]\n",
        "    plt.grid(False)\n",
        "    plt.xticks([])\n",
        "    plt.yticks([])\n",
        "    thisplot = plt.bar(range(10), predictions_array, color=\"#777777\")\n",
        "    plt.ylim([0, 1]) \n",
        "    predicted_label = np.argmax(predictions_array)\n",
        "\n",
        "    thisplot[predicted_label].set_color('red')\n",
        "    thisplot[true_label].set_color('blue')"
      ],
      "execution_count": 0,
      "outputs": []
    },
    {
      "cell_type": "code",
      "metadata": {
        "id": "G_8EXnz9yT7M",
        "colab_type": "code",
        "colab": {}
      },
      "source": [
        "def plot_correct_or_incorrect(irange, num_rows, num_cols, correct=True):\n",
        "    # Plot X test images, their predicted label, and the true label\n",
        "    # Color correct predictions in blue, incorrect predictions in red\n",
        "    plt.figure(figsize=(2*2*num_cols, 2*num_rows))\n",
        "    count = 0\n",
        "    for i in irange:\n",
        "        predictions_array, true_label = avg_preds[i], y_test[i]\n",
        "        predicted_label = np.argmax(predictions_array)\n",
        "        if (correct and predicted_label == true_label) or (not correct and predicted_label != true_label):\n",
        "            plt.subplot(num_rows, 2*num_cols, 2*count+1)\n",
        "            plot_image(i, avg_preds, y_test, X_test)\n",
        "            plt.subplot(num_rows, 2*num_cols, 2*count+2)\n",
        "            plot_value_array(i, avg_preds, y_test)\n",
        "            count+=1\n",
        "            if count == num_rows * num_cols:\n",
        "                break"
      ],
      "execution_count": 0,
      "outputs": []
    },
    {
      "cell_type": "markdown",
      "metadata": {
        "id": "xnNJXdSfyT7N",
        "colab_type": "text"
      },
      "source": [
        "Let's plot several images with their predictions. Correct prediction labels are blue and incorrect prediction labels are red. The number gives the percent (out of 100) for the predicted label. Note that it can be wrong even when very confident."
      ]
    },
    {
      "cell_type": "code",
      "metadata": {
        "id": "gku1Bs8ByT7N",
        "colab_type": "code",
        "colab": {}
      },
      "source": [
        "(_, _), (X_test, y_test) = fashion_mnist.load_data()"
      ],
      "execution_count": 0,
      "outputs": []
    },
    {
      "cell_type": "markdown",
      "metadata": {
        "id": "L8xVgMAJyT7P",
        "colab_type": "text"
      },
      "source": [
        "Correct labels:"
      ]
    },
    {
      "cell_type": "code",
      "metadata": {
        "id": "fNhoVqyGyT7P",
        "colab_type": "code",
        "outputId": "42feb6fd-554b-4eea-bb88-0b9d4f9cd169",
        "colab": {
          "base_uri": "https://localhost:8080/",
          "height": 592
        }
      },
      "source": [
        "plot_correct_or_incorrect(range(100), 5, 3, True)"
      ],
      "execution_count": 0,
      "outputs": [
        {
          "output_type": "display_data",
          "data": {
            "image/png": "[encoded data removed]",
            "text/plain": [
              "<Figure size 864x720 with 30 Axes>"
            ]
          },
          "metadata": {
            "tags": []
          }
        }
      ]
    },
    {
      "cell_type": "markdown",
      "metadata": {
        "id": "mBQnoCRqyT7Q",
        "colab_type": "text"
      },
      "source": [
        "Incorrect labels:"
      ]
    },
    {
      "cell_type": "code",
      "metadata": {
        "id": "NBMZSFKeyT7R",
        "colab_type": "code",
        "outputId": "7bd09c13-0a3f-4e8b-99ac-2ebcac49e51d",
        "colab": {
          "base_uri": "https://localhost:8080/",
          "height": 480
        }
      },
      "source": [
        "plot_correct_or_incorrect(range(150), 5, 3, False)"
      ],
      "execution_count": 0,
      "outputs": [
        {
          "output_type": "display_data",
          "data": {
            "image/png": "[encoded data removed]",
            "text/plain": [
              "<Figure size 864x720 with 24 Axes>"
            ]
          },
          "metadata": {
            "tags": []
          }
        }
      ]
    },
    {
      "cell_type": "markdown",
      "metadata": {
        "id": "8J6lQuRUyT7S",
        "colab_type": "text"
      },
      "source": [
        "## Other designs"
      ]
    },
    {
      "cell_type": "markdown",
      "metadata": {
        "id": "4JuVjNjPyT7T",
        "colab_type": "text"
      },
      "source": [
        "I would try the Cyclical Learning Rates method to alleviate the burden of finding the learning rates. It is known that the learning rate is the most important hyper-parameter to tune for training deep neural networks. This paper (https://arxiv.org/abs/1506.01186) describes a new method for setting the learning rate, named cyclical learning rates, which practically eliminates the need to experimentally find the best values and schedule for the global learning rates. Instead of monotonically decreasing the learning rate, this method lets the learning rate cyclically vary between reasonable boundary values.\n",
        "\n",
        "I would propose to use a pre-trained model, that is, a model created by someone else to solve a different problem. Instead of building a model from scratch to solve a similar problem, I would l use a model trained on ImageNet (1.2 million images and 1000 classes) as a starting point. Steps:\n",
        "  1. Resizing the images to the desired resolution required for the input layer into the pre-trained CNN. Pre-trained weights are optimized for much larger images. Taking a 28 x 28 image and resizing to a 224 x 224 image would pose severe interpolation artifacts. We could try with interpolations like bilinear or bicubic.\n",
        "  2. Because the MNIST digits are originally grayscale, we will need to replicate the single channel image into a multi-channel image so that it artificially becomes RGB. This means that the red, green and blue channels are all the same and is the MNIST grayscale counterpart.\n",
        "  3. Replacing the last layer of the pre-trained model and train our softmax layer with our corresponding labels. We want to fix the weights in all the other layers since otherwise, we'll have one layer with random weights, which will cause the other layers to quickly move a long way from their optimized ImageNet weights.\n",
        "  4. Now that we have a good final layer trained, we can try fine-tuning the other layers. Note that the other layers have already been trained to recognize ImageNet photos so we want to be careful of not destroying the carefully tuned weights that are already there. Generally speaking, the earlier layers have more general-purpose features. Therefore we would expect them to need less fine-tuning for new datasets. We use different learning rates for different layers, for example, the first few layers will be at 1e-4, the middle layers at 1e-3, and our FC layers we'll leave at 1e-2 as before.\n"
      ]
    }
  ]
}